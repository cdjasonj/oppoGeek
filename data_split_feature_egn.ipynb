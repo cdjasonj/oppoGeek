{
 "cells": [
  {
   "cell_type": "code",
   "execution_count": 10,
   "metadata": {},
   "outputs": [],
   "source": [
    "##构造libffm所需要的dataformat\n",
    "import pandas  as pd\n",
    "from tqdm import tqdm\n",
    "##怎么划分训练集和测试集\n",
    "##训练集的要求 1 尽量包含完所有搜索词  先随便来试一下哦，不要管那么多\n",
    "from sklearn.cross_validation import train_test_split\n",
    "train_data_old = pd.read_csv('E:/competionfile/oppo/data/data_split/train_data_old.csv',encoding='utf8').astype(str)\n",
    "test_data_old  = pd.read_csv('E:/competionfile/oppo/data/data_split/test_data_old.csv',encoding='utf8')\n",
    "train_data_old.columns = ['prefix','query_prediction','title','tag','label']\n",
    "test_data_old.columns = ['prefix','query_prediction','title','tag','label']\n",
    "train_data_old[ 'label' ] = train_data_old['label'].astype(int)\n",
    "train_data_old['realtitle'] = train_data_old['title']+train_data_old['tag']\n",
    "test_data_old['realtitle'] = test_data_old['title']+test_data_old['tag']\n",
    "\n",
    "train_data_old = train_data_old.reset_index()\n",
    "train_data_old = train_data_old.drop(['index'],axis=1)\n",
    "test_data_old = test_data_old.reset_index()\n",
    "test_data_old = test_data_old.drop(['index'],axis=1)\n",
    "\n",
    "\n",
    "train_data_new = pd.read_csv('E:/competionfile/oppo/data/data_split/train_data_new.csv',encoding='utf8').astype(str)\n",
    "test_data_new  = pd.read_csv('E:/competionfile/oppo/data/data_split/test_data_new.csv',encoding='utf8').astype(str)\n",
    "\n",
    "train_data_new[ 'label' ] = train_data_new['label'].astype(int)\n",
    "train_data_new['realtitle'] = train_data_new['title']+train_data_new['tag']\n",
    "test_data_new['realtitle'] = test_data_new['title']+test_data_new['tag']\n",
    "\n",
    "train_data_new = train_data_new.reset_index()\n",
    "train_data_new = train_data_new.drop(['index'],axis=1)\n",
    "test_data_new = test_data_new.reset_index()\n",
    "test_data_new = test_data_new.drop(['index'],axis=1)\n",
    "tt = pd.read_csv('E:/competionfile/oppo/data/data_split/train_data_new.csv',encoding='utf8').astype(str)\n",
    "train_data_new_label = tt.astype(str)['label'].astype(int)\n",
    "\n",
    "##加载测试机数据\n",
    "real_data_old = pd.read_csv('E:/competionfile/oppo/data/data_split/testAdata_orignal_old.csv',index_col=0)\n",
    "real_data_new = pd.read_csv('E:/competionfile/oppo/data/data_split/testAdata_orignal_new.csv',index_col=0)\n",
    "\n"
   ]
  },
  {
   "cell_type": "code",
   "execution_count": 7,
   "metadata": {},
   "outputs": [],
   "source": [
    "# real_data_old"
   ]
  },
  {
   "cell_type": "code",
   "execution_count": 118,
   "metadata": {},
   "outputs": [],
   "source": [
    "# # test_data_full  = pd.read_table('E:/competionfile/oppo/new/oppo_round1_train_20180929/oppo_round1_vali_20180929.txt',names=[0,1,2,3,4],header=None,encoding='utf8').astype(str)\n",
    "# # train_data  = pd.read_table('E:/competionfile/oppo/new/oppo_round1_train_20180929/oppo_round1_train_20180929.txt',names=[0,1,2,3,4],header=None,encoding='utf8').astype(str)\n",
    "# # train_data = train_data[ train_data[3] != '音乐' ]\n",
    "# # train_data.columns = ['prefix','query_prediction','title','tag','label']\n",
    "# # test_data_full.columns = ['prefix','query_prediction','title','tag','label']\n",
    "\n",
    "# # # prefixset  =  set( train_data[0] )\n",
    "# # test_data_new = test_data_full[ test_data_full['prefix'].map( lambda x : True if x not in prefixset else False  ) ]\n",
    "# # test_data_old = test_data_full[ test_data_full['prefix'].map( lambda x : True if x in prefixset else False  ) ]\n",
    "\n",
    "# # count_dict = train_data.groupby('prefix')['prefix'].count()\n",
    "# # train_data_new = train_data[ train_data['prefix'].map( lambda x : count_dict[x] ) <= 2  ]\n",
    "# # train_data_old = train_data[ train_data['prefix'].map( lambda x : count_dict[x] ) > 2  ]\n",
    "# train_data_new = train_data[ train_data['label'] != '音乐' ]\n",
    "# train_data_old['label'] = train_data_old['label'].astype(int)\n",
    "# train_data_new['label'] = train_data_new['label'].astype(int)\n",
    "# test_data_old['label'] = test_data_old['label'].astype(int)\n",
    "# test_data_new['label'] = test_data_new['label'].astype(int)\n",
    "\n",
    "# print( test_data_new.shape , test_data_old.shape ,train_data_new.shape ,train_data_old.shape  )"
   ]
  },
  {
   "cell_type": "code",
   "execution_count": 8,
   "metadata": {},
   "outputs": [],
   "source": [
    "TestAllSim_Stopesult = pd.read_csv('E:/competionfile/oppo/data/doc2vec/TestAllSim_Stopesult.csv')\n",
    "TrainAllSim_Stopesult = pd.read_csv('E:/competionfile/oppo/data/doc2vec/TrainAllSim_Stopesult.csv')\n",
    "VailAllSim_Stopesult = pd.read_csv('E:/competionfile/oppo/data/doc2vec/VailAllSim_Stopesult.csv')"
   ]
  },
  {
   "cell_type": "code",
   "execution_count": 12,
   "metadata": {},
   "outputs": [],
   "source": [
    "TrainAllSim_Stopesult = TrainAllSim_Stopesult.append( TestAllSim_Stopesult , ignore_index=False )\n",
    "TrainAllSim_Stopesult = TrainAllSim_Stopesult.append( VailAllSim_Stopesult , ignore_index=False )\n",
    "from tqdm import tqdm\n",
    "pre_Tsim_map = {}\n",
    "query_Tsim_map = {}\n",
    "for  item in tqdm(TrainAllSim_Stopesult.itertuples()):\n",
    "    pre_Tsim_map[(item.prifix,item.title)] = item.pri_Tsim\n",
    "    query_Tsim_map[(item.query,item.title)] = item.quer_Tsim"
   ]
  },
  {
   "cell_type": "code",
   "execution_count": 14,
   "metadata": {},
   "outputs": [],
   "source": [
    "def getxx( item ):\n",
    "#     try:\n",
    "#         return pre_Tsim_map[(item.prefix,item.title)]\n",
    "#     except:\n",
    "#         print(item)\n",
    "#     if item.prefix == 'nan':\n",
    "#         return 0\n",
    "#     else:\n",
    "        return pre_Tsim_map[(item.prefix,item.title)]\n",
    "\n",
    "train_data_new['pre_title_doc2vec_sim'] = train_data_new.apply( getxx  ,axis=1)\n",
    "test_data_new['pre_title_doc2vec_sim'] = test_data_new.apply( lambda x: pre_Tsim_map[(x.prefix,x.title)],axis=1 )\n",
    "real_data_new['pre_title_doc2vec_sim'] = real_data_new.apply( lambda x: pre_Tsim_map[(x.prefix,x.title)],axis=1 )"
   ]
  },
  {
   "cell_type": "code",
   "execution_count": 15,
   "metadata": {},
   "outputs": [
    {
     "name": "stdout",
     "output_type": "stream",
     "text": [
      "118519 1881475\n"
     ]
    }
   ],
   "source": [
    "import json\n",
    "def get_query_prediction_no1(predictStr):\n",
    "\n",
    "    obj = json.loads(predictStr)\n",
    "    if len(obj) == 0:\n",
    "        return None\n",
    "    curlist = []\n",
    "    for  i in obj:\n",
    "        curlist.append( ( i , float(obj[i]) ) )\n",
    "    curlist.sort( key = lambda x : x[1] , reverse = True )\n",
    "    return curlist[0][0]\n",
    "train_data_new['query_prediction_no1'] = train_data_new.apply( lambda x: get_query_prediction_no1( x.query_prediction ) ,axis=1)\n",
    "test_data_new['query_prediction_no1'] = test_data_new.apply(  lambda x: get_query_prediction_no1( x.query_prediction ) ,axis=1 )\n",
    "real_data_new['query_prediction_no1'] = real_data_new.apply(  lambda x: get_query_prediction_no1( x.query_prediction ) ,axis=1 )\n",
    "\n",
    "train_data_new['query_title_doc2vec_sim'] = train_data_new.apply( lambda x: query_Tsim_map.get((x.query_prediction_no1,x.title),0) ,axis=1)\n",
    "test_data_new['query_title_doc2vec_sim'] = test_data_new.apply( lambda x: query_Tsim_map.get((x.query_prediction_no1,x.title),0) ,axis=1)\n",
    "real_data_new['query_title_doc2vec_sim'] = real_data_new.apply( lambda x: query_Tsim_map.get((x.query_prediction_no1,x.title),0) ,axis=1)\n",
    "\n",
    "print(train_data_new.shape[0],train_data_old.shape[0])"
   ]
  },
  {
   "cell_type": "code",
   "execution_count": 16,
   "metadata": {},
   "outputs": [
    {
     "name": "stdout",
     "output_type": "stream",
     "text": [
      "118519 1881475\n"
     ]
    }
   ],
   "source": [
    "## 做一下几个特征，搜索词长度的点击率，搜索词长度，文章长度，搜索词减文章长度，title点击率，titletag点击率，编辑距离，语义相似度（预测词第一名和， query和title的相似度, tag点击率 ），搜索词是否在预测词中出现过 ，\n",
    "import difflib\n",
    "import Levenshtein\n",
    "\n",
    "def get_equal_rate_1(str1,str2):\n",
    "    return difflib.SequenceMatcher(None, str1, str2).quick_ratio()\n",
    "\n",
    "def latt( s1 , s2 ):\n",
    "    return Levenshtein.distance(s1,s2)\n",
    "\n",
    "train_data_old['title_len'] = train_data_old['title'].map( lambda x : len(x) )\n",
    "title_len_ctr_dict = train_data_old.groupby('title_len')['label'].mean()\n",
    "title_ctr_dict = train_data_old.groupby('title')['label'].mean()\n",
    "title_tag_ctr_dict = train_data_old.groupby(['title','tag'])['label'].mean()\n",
    "tag_ctr_dict = train_data_old.groupby('tag')['label'].mean()\n",
    "\n",
    "\n",
    "title_len_ctr_dict_idx = title_len_ctr_dict.index\n",
    "\n",
    "train_data_new['prefix_len'] = train_data_new['prefix'].map( lambda x : len(x) )\n",
    "train_data_new['title_len'] = train_data_new['title'].map( lambda x : len(x) )\n",
    "train_data_new['title_len_ctr'] = train_data_new['title_len'].map( lambda x : 0.37 if x not in title_len_ctr_dict_idx else title_len_ctr_dict[x]  )\n",
    "train_data_new['title_len_sub_prefix_len'] = train_data_new['title_len'] - train_data_new['prefix_len']\n",
    "train_data_new['title_ctr'] = train_data_new['title'].map( lambda x : 0.37 if x not in title_ctr_dict.index else title_ctr_dict[x] )\n",
    "# train_data_new['title_tag_ctr'] = train_data_new.apply( lambda x : 0.37 if (x['title'],x['tag']) not in title_tag_ctr_dict.index else title_tag_ctr_dict[(x['title'],['tag'])]  , axis=1 )\n",
    "train_data_new['prefix_title_difsim'] = train_data_new.apply( lambda x : get_equal_rate_1( x['prefix'] , x['title'] )  , axis=1 )\n",
    "train_data_new['prefix_title_latsim'] = train_data_new.apply( lambda x : latt( x['prefix'] , x['title'] )  , axis=1 )\n",
    "train_data_new['title_ocrin_prediction'] = train_data_new.apply( lambda x : 1 if x['title'] in x['query_prediction'] else 0    , axis=1 )\n",
    "\n",
    "train_data_new['tag_ctr'] = train_data_new['tag'].map( lambda x : tag_ctr_dict[x]  )\n",
    "\n",
    "print(train_data_new.shape[0],train_data_old.shape[0])"
   ]
  },
  {
   "cell_type": "code",
   "execution_count": 17,
   "metadata": {},
   "outputs": [],
   "source": [
    "test_data_new['prefix_len'] = test_data_new['prefix'].map( lambda x : len(x) )\n",
    "test_data_new['title_len'] = test_data_new['title'].map( lambda x : len(x) )\n",
    "test_data_new['title_len_ctr'] = test_data_new['title_len'].map( lambda x : 0.37 if x not in title_len_ctr_dict_idx else title_len_ctr_dict[x]  )\n",
    "test_data_new['title_len_sub_prefix_len'] = test_data_new['title_len'] - test_data_new['prefix_len']\n",
    "test_data_new['title_ctr'] = test_data_new['title'].map( lambda x : 0.37 if x not in title_ctr_dict.index else title_ctr_dict[x] )\n",
    "# train_data_new['title_tag_ctr'] = train_data_new.apply( lambda x : 0.37 if (x['title'],x['tag']) not in title_tag_ctr_dict.index else title_tag_ctr_dict[(x['title'],['tag'])]  , axis=1 )\n",
    "test_data_new['prefix_title_difsim'] = test_data_new.apply( lambda x : get_equal_rate_1( x['prefix'] , x['title'] )  , axis=1 )\n",
    "test_data_new['prefix_title_latsim'] = test_data_new.apply( lambda x : latt( x['prefix'] , x['title'] )  , axis=1 )\n",
    "test_data_new['title_ocrin_prediction'] = test_data_new.apply( lambda x : 1 if x['title'] in x['query_prediction'] else 0    , axis=1 )\n",
    "\n",
    "test_data_new['tag_ctr'] = test_data_new['tag'].map( lambda x : tag_ctr_dict[x]  )\n",
    "\n"
   ]
  },
  {
   "cell_type": "code",
   "execution_count": 18,
   "metadata": {},
   "outputs": [],
   "source": [
    "real_data_new['prefix_len'] = real_data_new['prefix'].map( lambda x : len(x) )\n",
    "real_data_new['title_len'] = real_data_new['title'].map( lambda x : len(x) )\n",
    "real_data_new['title_len_ctr'] = real_data_new['title_len'].map( lambda x : 0.37 if x not in title_len_ctr_dict_idx else title_len_ctr_dict[x]  )\n",
    "real_data_new['title_len_sub_prefix_len'] = real_data_new['title_len'] - real_data_new['prefix_len']\n",
    "real_data_new['title_ctr'] = real_data_new['title'].map( lambda x : 0.37 if x not in title_ctr_dict.index else title_ctr_dict[x] )\n",
    "# train_data_new['title_tag_ctr'] = train_data_new.apply( lambda x : 0.37 if (x['title'],x['tag']) not in title_tag_ctr_dict.index else title_tag_ctr_dict[(x['title'],['tag'])]  , axis=1 )\n",
    "real_data_new['prefix_title_difsim'] = real_data_new.apply( lambda x : get_equal_rate_1( x['prefix'] , x['title'] )  , axis=1 )\n",
    "real_data_new['prefix_title_latsim'] = real_data_new.apply( lambda x : latt( x['prefix'] , x['title'] )  , axis=1 )\n",
    "real_data_new['title_ocrin_prediction'] = real_data_new.apply( lambda x : 1 if x['title'] in x['query_prediction'] else 0    , axis=1 )\n",
    "\n",
    "real_data_new['tag_ctr'] = real_data_new['tag'].map( lambda x : tag_ctr_dict[x]  )\n",
    "\n"
   ]
  },
  {
   "cell_type": "code",
   "execution_count": 19,
   "metadata": {},
   "outputs": [
    {
     "data": {
      "text/plain": [
       "Index(['prefix', 'query_prediction', 'title', 'tag', 'pre_title_doc2vec_sim',\n",
       "       'query_prediction_no1', 'query_title_doc2vec_sim', 'prefix_len',\n",
       "       'title_len', 'title_len_ctr', 'title_len_sub_prefix_len', 'title_ctr',\n",
       "       'prefix_title_difsim', 'prefix_title_latsim', 'title_ocrin_prediction',\n",
       "       'tag_ctr'],\n",
       "      dtype='object')"
      ]
     },
     "execution_count": 19,
     "metadata": {},
     "output_type": "execute_result"
    }
   ],
   "source": [
    "real_data_new.columns"
   ]
  },
  {
   "cell_type": "code",
   "execution_count": 22,
   "metadata": {},
   "outputs": [],
   "source": [
    "train_y_data = train_data_new['label']\n",
    "train_x_data = train_data_new.drop(['prefix','query_prediction','title','tag','label','query_prediction_no1','realtitle'] , axis = 1 )\n",
    "test_x_data = test_data_new.drop(['prefix','query_prediction','title','tag','label','query_prediction_no1','realtitle'] , axis = 1 )\n",
    "test_y_data = test_data_new['label'].astype(int)\n",
    "\n",
    "real_data_x_data = real_data_new.drop( ['prefix','query_prediction','title','tag','query_prediction_no1'] ,axis=1 )"
   ]
  },
  {
   "cell_type": "code",
   "execution_count": 26,
   "metadata": {},
   "outputs": [
    {
     "name": "stdout",
     "output_type": "stream",
     "text": [
      "[1]\tvalid_0's l1: 0.374539\tvalid_0's myFeval: 0.588046\n",
      "[2]\tvalid_0's l1: 0.374927\tvalid_0's myFeval: 0.588046\n",
      "[3]\tvalid_0's l1: 0.375315\tvalid_0's myFeval: 0.588046\n",
      "[4]\tvalid_0's l1: 0.375702\tvalid_0's myFeval: 0.588046\n",
      "[5]\tvalid_0's l1: 0.37609\tvalid_0's myFeval: 0.588235\n",
      "xgb_predict\n",
      "             precision    recall  f1-score   support\n",
      "\n",
      "          0  0.76117564 0.66010379 0.70704594      6552\n",
      "          1  0.53478170 0.65356140 0.58823529      3917\n",
      "\n",
      "avg / total  0.67646984 0.65765594 0.66259267     10469\n",
      "\n"
     ]
    },
    {
     "data": {
      "text/plain": [
       "<matplotlib.axes._subplots.AxesSubplot at 0x1d19f46a5c0>"
      ]
     },
     "execution_count": 26,
     "metadata": {},
     "output_type": "execute_result"
    },
    {
     "data": {
      "image/png": "[encoded data removed]",
      "text/plain": [
       "<Figure size 432x288 with 1 Axes>"
      ]
     },
     "metadata": {},
     "output_type": "display_data"
    }
   ],
   "source": [
    "from sklearn.metrics import f1_score\n",
    "import lightgbm as lgb\n",
    "params = {'metric': 'l1',\n",
    "          'boosting_type': 'gbdt',\n",
    "          'max_depth':8,\n",
    "          'num_leaves':300,\n",
    "          'num_threads':4,\n",
    "          'objective':'binary',\n",
    "          'bagging_fraction':0.5,\n",
    "          # 'bagging_freq':1,\n",
    "          'learning_rate' : 0.001,\n",
    "          'min_data_in_leaf' : 5,\n",
    "#           'min_data_per_group' : 1,\n",
    "          # 'weight' : ''\n",
    "          }\n",
    "\n",
    "def myFeval(   preds, train):\n",
    "#     aa = pd.Series(train.get_label()).map( lambda x: 1 if x >= 0.5 else 0 )\n",
    "#     print()\n",
    "    score = f1_score(train.get_label(),pd.Series(preds).map( lambda x: 1 if x >= 0.5 else 0 ))\n",
    "    return 'myFeval',score,False\n",
    "train_data = lgb.Dataset( train_x_data , train_y_data ,free_raw_data=False ,  )\n",
    "test_data = lgb.Dataset( test_x_data , test_y_data , reference= train_data )\n",
    "gbm = lgb.train(params,train_data,valid_sets=test_data,num_boost_round=5,feval = myFeval )\n",
    "\n",
    "from sklearn.metrics import classification_report\n",
    "xgb_predict_label = gbm.predict(test_x_data )\n",
    "xgb_predict_label = pd.Series( xgb_predict_label  ).map(lambda x : 1 if x>= 0.5 else 0)\n",
    "print('xgb_predict') \n",
    "print(classification_report(test_y_data,xgb_predict_label,digits=8))\n",
    "lgb.plot_importance(gbm, max_num_features=30)"
   ]
  },
  {
   "cell_type": "code",
   "execution_count": null,
   "metadata": {},
   "outputs": [],
   "source": [
    "test_data_full = pd.read_table('E:/competionfile/oppo/new/oppo_round1_train_20180929/oppo_round1_vali_20180929.txt',header=None)\n",
    "test_data_orgnal_new = test_data_full[  test_data_full[0].map( lambda x : True if x not in nameset else False )  ]\n",
    "\n",
    "old_data_label = pd.read_csv('E:/competionfile/oppo/result/old_new_split_old.csv',header=None)\n",
    "\n",
    "concat_result = []\n",
    "cc=0\n",
    "kk=0\n",
    "for i in range(0,50000):\n",
    "    if i == 12237:\n",
    "        concat_result.append(0)\n",
    "    elif i in test_data_orgnal_new.index:\n",
    "        concat_result.append( xgb_predict_label[cc] )\n",
    "        cc+=1\n",
    "        kk+=1\n",
    "    else:\n",
    "        concat_result.append( list(old_data_label[0])[kk] )\n",
    "        kk+=1\n",
    "        \n",
    "##\n",
    "from sklearn.metrics import classification_report\n",
    "# xgb_predict_label = gbm.predict(test_x_data )\n",
    "xgb_predict_label = pd.Series( xgb_predict_label  ).map(lambda x : 1 if x>= 0.5 else 0)\n",
    "print('xgb_predict') \n",
    "print(classification_report(concat_result,ttfull[4],digits=8))\n"
   ]
  },
  {
   "cell_type": "code",
   "execution_count": 52,
   "metadata": {},
   "outputs": [],
   "source": [
    "##用lgb预测测试集\n",
    "# real_data_new_lable = list()"
   ]
  },
  {
   "cell_type": "code",
   "execution_count": 51,
   "metadata": {},
   "outputs": [],
   "source": [
    "# real_data_old_result"
   ]
  },
  {
   "cell_type": "code",
   "execution_count": 62,
   "metadata": {},
   "outputs": [],
   "source": [
    "##拼接结果\n",
    "##加载老结果\n",
    "# real_data_old_result = pd.read_csv('E:/competionfile/oppo/result/testAdata_old_lgb_predict_label.csv',index_col=0,header=None)\n",
    "# real_data_old_result[1] = real_data_old_result[1].map( lambda x : 1 if x >= 0.5 else 0  )\n",
    "real_data_concat_result = []\n",
    "cc=0\n",
    "kk=0\n",
    "for i in range(0,50000):\n",
    "    if i in real_data_old_result.index:\n",
    "        real_data_concat_result.append( list(real_data_old_result[1])[kk] )\n",
    "        kk+=1\n",
    "    else:\n",
    "        real_data_concat_result.append( real_data_new_lable[cc] )\n",
    "        cc+=1\n",
    "        \n",
    "for i in range(0,50000):\n",
    "    if real_data_concat_result[i] >= 0.5:\n",
    "        real_data_concat_result[i] = 1\n",
    "    else:\n",
    "        real_data_concat_result[i] = 0"
   ]
  },
  {
   "cell_type": "code",
   "execution_count": 65,
   "metadata": {},
   "outputs": [],
   "source": [
    "pd.Series(real_data_concat_result).to_csv('E:/competionfile/oppo/result/real_data_total_result.csv',index=False)"
   ]
  },
  {
   "cell_type": "code",
   "execution_count": 57,
   "metadata": {},
   "outputs": [
    {
     "data": {
      "text/plain": [
       "50000"
      ]
     },
     "execution_count": 57,
     "metadata": {},
     "output_type": "execute_result"
    }
   ],
   "source": [
    "len( real_data_old_result ) + len(real_data_new_lable)"
   ]
  },
  {
   "cell_type": "code",
   "execution_count": 2,
   "metadata": {},
   "outputs": [],
   "source": [
    "## 这个现在有点不好用\n",
    "# # train_data_new_2 = train_data[train_data['prefix_count'] <=1]\n",
    "# # train_data_old_2 = train_data[train_data['prefix_count'] > 1]\n",
    "\n",
    "# # import json\n",
    "# # prediction_map_2 = {}\n",
    "# # # ## 找一下这些生词的预测词里面的项目有多少是在训练集中出现过的\n",
    "# # for item in tqdm( train_data_old_2.itertuples() ):\n",
    "# # #     print( item )\n",
    "# #     prediction_str = item.query_prediction\n",
    "# #     obj = json.loads( prediction_str )\n",
    "# #     if len( obj ) == 0:\n",
    "# #         continue\n",
    "# #     for pre_str in obj:\n",
    "# #         pre_str_list = prediction_map_2.get( pre_str , [] )\n",
    "# #         pre_str_list.append(item.Index)\n",
    "# #         if len( pre_str_list ) == 1:\n",
    "# #             prediction_map_2[pre_str] = pre_str_list\n",
    "            \n",
    "            \n",
    "            \n",
    "# cur = 0\n",
    "# total = test_data_new.shape[0]\n",
    "# curpercent = 0\n",
    "# prepercent = 0\n",
    "# def find_ocr_list_ctr( item ):\n",
    "#     global cur\n",
    "#     global total\n",
    "#     global curpercent\n",
    "#     global prepercent\n",
    "    \n",
    "#     predictions = item['query_prediction']\n",
    "#     obj = json.loads( predictions )\n",
    "#     if len(obj) == 0:\n",
    "#         return []\n",
    "#     idx_list = []\n",
    "    \n",
    "#     cur+=1\n",
    "#     curpercent = int( cur/total*100 )\n",
    "#     if curpercent != prepercent:\n",
    "#         prepercent = curpercent\n",
    "#         print('curpercent {}'.format( curpercent ))\n",
    "#     for prediction in obj:\n",
    "#         pre_idx_list = prediction_map_2.get(prediction)\n",
    "#         if pre_idx_list is not None:\n",
    "#             idx_list+= pre_idx_list\n",
    "#         return idx_list            \n",
    "            \n",
    "# test_data_new['prediction_train_occur_idx_list'] = test_data_new.apply( find_ocr_list_ctr , axis = 1 )\n",
    "\n",
    "# cur = 0\n",
    "# total = train_data_new_2.shape[0]\n",
    "# curpercent = 0\n",
    "# prepercent = 0\n",
    "# train_data_new_2['prediction_train_occur_idx_list'] = train_data_new_2.apply( find_ocr_list_ctr , axis = 1 )\n",
    "\n",
    "# test_data_new['list_len']=test_data_new['prediction_train_occur_idx_list'].map(lambda x : len(x))\n",
    "# train_data_new['list_len']=train_data_new['prediction_train_occur_idx_list'].map(lambda x : len(x))\n",
    "\n",
    "# test_data_new['list_len']=test_data_new['prediction_train_occur_idx_list'].map(lambda x : len(x))\n",
    "# train_data_new_2['list_len']=train_data_new_2['prediction_train_occur_idx_list'].map(lambda x : len(x))\n",
    "\n",
    "# print( train_data_new_2[ train_data_new_2['list_len'] == 0 ].shape[0] , test_data_new[ test_data_new['list_len'] == 0 ].shape[0] )\n",
    "import json\n",
    "cur = 0\n",
    "total = test_data_new.shape[0]\n",
    "curpercent = 0\n",
    "prepercent = 0\n",
    "def find_ocr_list_ctr( item ):\n",
    "    global cur\n",
    "    global total\n",
    "    global curpercent\n",
    "    global prepercent\n",
    "    \n",
    "    predictions = item['query_prediction']\n",
    "    obj = json.loads( predictions )\n",
    "    if len(obj) == 0:\n",
    "        return []\n",
    "    idx_list = []\n",
    "    \n",
    "    cur+=1\n",
    "    curpercent = int( cur/total*100 )\n",
    "    if curpercent != prepercent:\n",
    "        prepercent = curpercent\n",
    "        print('curpercent {}'.format( curpercent ))\n",
    "    for prediction in obj:\n",
    "        pre_idx_list = prediction_map.get(prediction)\n",
    "        if pre_idx_list is not None:\n",
    "            idx_list+= pre_idx_list\n",
    "        return idx_list\n",
    "test_data_new['prediction_train_occur_idx_list'] = test_data_new.apply( find_ocr_list_ctr , axis = 1 )\n",
    "\n",
    "cur = 0\n",
    "total = train_data_new.shape[0]\n",
    "curpercent = 0\n",
    "prepercent = 0\n",
    "train_data_new['prediction_train_occur_idx_list'] = train_data_new.apply( find_ocr_list_ctr , axis = 1 )\n",
    "# train_data_new['prediction_train_occur_idx_list_ctr'].to_csv('E:/competionfile/oppo/data/data_split/single_feature/trainnew_prediction_train_occur_idx_list_ctr.csv')\n",
    "# test_data_new['prediction_train_occur_idx_list_ctr'].to_csv('E:/competionfile/oppo/data/data_split/single_feature/testnew_prediction_train_occur_idx_list_ctr.csv')\n",
    "\n",
    "test_data_new['list_len']=test_data_new['prediction_train_occur_idx_list'].map(lambda x : len(x))\n",
    "train_data_new['list_len']=train_data_new['prediction_train_occur_idx_list'].map(lambda x : len(x))\n",
    "\n",
    "print( train_data_new[ train_data_new['list_len'] == 0 ].shape[0] , test_data_new[ test_data_new['list_len'] == 0 ].shape[0] ) \n",
    "print( train_data_new[ train_data_new['list_len'] == 0 ].shape[0] , test_data_new[ test_data_new['list_len'] == 0 ].shape[0] ) "
   ]
  },
  {
   "cell_type": "code",
   "execution_count": 88,
   "metadata": {},
   "outputs": [
    {
     "name": "stdout",
     "output_type": "stream",
     "text": [
      "xgb_predict\n",
      "             precision    recall  f1-score   support\n",
      "\n",
      "          0  0.84115868 0.82704767 0.83404349     31951\n",
      "          1  0.70266344 0.72353039 0.71294426     18049\n",
      "\n",
      "avg / total  0.79116467 0.78968000 0.79032909     50000\n",
      "\n"
     ]
    }
   ],
   "source": [
    "##\n",
    "from sklearn.metrics import classification_report\n",
    "# xgb_predict_label = gbm.predict(test_x_data )\n",
    "xgb_predict_label = pd.Series( xgb_predict_label  ).map(lambda x : 1 if x>= 0.5 else 0)\n",
    "print('xgb_predict') \n",
    "print(classification_report(newresutl,ttfull[4],digits=8))\n"
   ]
  },
  {
   "cell_type": "code",
   "execution_count": 68,
   "metadata": {},
   "outputs": [],
   "source": [
    "# predict_label_10_11"
   ]
  },
  {
   "cell_type": "code",
   "execution_count": 69,
   "metadata": {},
   "outputs": [
    {
     "name": "stdout",
     "output_type": "stream",
     "text": [
      "xgb_predict\n",
      "             precision    recall  f1-score   support\n",
      "\n",
      "          0  0.79709765 0.95220524 0.86777489     28727\n",
      "          1  0.91245297 0.67268368 0.77443446     21273\n",
      "\n",
      "avg / total  0.84617673 0.83328000 0.82806227     50000\n",
      "\n"
     ]
    }
   ],
   "source": [
    "##计算一下相关性\n",
    "# predict_label_10_11 = pd.read_csv('E:/competionfile/oppo/result/predict_label_10_11.csv',header=None)[0]\n",
    "from sklearn.metrics import classification_report\n",
    "# xgb_predict_label = gbm.predict(test_x_data )\n",
    "xgb_predict_label = pd.Series( xgb_predict_label  ).map(lambda x : 1 if x>= 0.5 else 0)\n",
    "print('xgb_predict') \n",
    "print(classification_report(real_data_concat_result,predict_label_10_11,digits=8))"
   ]
  }
 ],
 "metadata": {
  "kernelspec": {
   "display_name": "Python 3",
   "language": "python",
   "name": "python3"
  },
  "language_info": {
   "codemirror_mode": {
    "name": "ipython",
    "version": 3
   },
   "file_extension": ".py",
   "mimetype": "text/x-python",
   "name": "python",
   "nbconvert_exporter": "python",
   "pygments_lexer": "ipython3",
   "version": "3.6.5"
  }
 },
 "nbformat": 4,
 "nbformat_minor": 2
}
