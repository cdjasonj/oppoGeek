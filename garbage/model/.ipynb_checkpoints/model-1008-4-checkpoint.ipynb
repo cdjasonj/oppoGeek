{
 "cells": [
  {
   "cell_type": "code",
   "execution_count": 11,
   "metadata": {},
   "outputs": [],
   "source": [
    "import pandas as pd\n",
    "# train= pd.read_csv('E:/competionfile/oppo/data/train_data_10_4_2.csv')\n",
    "# test = pd.read_csv('E:/competionfile/oppo/data/test_data_10_4_2.csv')\n",
    "# train.drop('Unnamed: 0',axis=1,inplace=True)\n",
    "# test.drop('Unnamed: 0',axis=1,inplace=True)\n",
    "# train['label'] = train['lable']\n",
    "# test['label'] = train['lable']\n",
    "\n",
    "# train.drop('lable',axis=1,inplace=True)\n",
    "# test.drop('lable',axis=1,inplace=True)\n",
    "\n",
    "\n",
    "train['label'] = train['label'].astype(int)\n",
    "test['label'] = train['label'].astype(int)\n",
    "train_X_data = train.drop('label',axis=1)\n",
    "train_Y_data = train['label']\n",
    "vali_data = test['label']\n",
    "test_X_data = test.drop('label',axis=1)\n",
    "pd.set_option('display.max_columns',55)"
   ]
  },
  {
   "cell_type": "code",
   "execution_count": 13,
   "metadata": {},
   "outputs": [
    {
     "data": {
      "text/plain": [
       "Index(['prefix_pred_0', 'prefix_pred_1', 'title_pred_0', 'title_pred_1', '健康',\n",
       "       '商品', '应用', '影视', '快应用', '旅游', '景点', '歌手', '汽车', '游戏', '火车', '百科', '知道',\n",
       "       '经验', '网站', '网页', '航班', '菜谱', '酒店', '阅读', '音乐', 'title_ctr',\n",
       "       'prefix_len', 'prefix_ctr', 'tag_ctr', 'prefix_tag_ctr',\n",
       "       'title_tag_ctr', 'prefix_title_ctr', 'smi_pre_ti', 'query_title_sm'],\n",
       "      dtype='object')"
      ]
     },
     "execution_count": 13,
     "metadata": {},
     "output_type": "execute_result"
    }
   ],
   "source": [
    "train_X_data.columns"
   ]
  },
  {
   "cell_type": "code",
   "execution_count": null,
   "metadata": {},
   "outputs": [],
   "source": [
    "#用xgb跑一下\n",
    "from pylab import mpl\n",
    "from matplotlib import pyplot as plt\n",
    "mpl.rcParams['font.sans-serif'] = ['SimHei'] \n",
    "def plot_feature_importance(df,title):\n",
    "        \"\"\"\n",
    "    Plot importances returned by a model. This can work with any measure of\n",
    "    feature importance provided that higher importance is better. \n",
    "    \n",
    "    Args:\n",
    "        df (dataframe): feature importances. Must have the features in a column\n",
    "        called `features` and the importances in a column called `importance\n",
    "        \n",
    "    Returns:\n",
    "        shows a plot of the 15 most importance features\n",
    "        \n",
    "        df (dataframe): feature importances sorted by importance (highest to lowest) \n",
    "        with a column for normalized importance\n",
    "        \"\"\"\n",
    "        df = df.sort_values('importance',ascending = False,).reset_index()\n",
    "        df['importance_normalized'] = df['importance']/df['importance'].sum()\n",
    "        \n",
    "        plt.figure(figsize=(10,6))\n",
    "        ax = plt.subplot()\n",
    "        \n",
    "        #取前15个feature\n",
    "        ax.barh(list(reversed(list(df.index[:]))), df['importance_normalized'], align = 'center', edgecolor = 'k')\n",
    "        \n",
    "        ax.set_yticks(list(reversed(list(df.index[:]))))\n",
    "        ax.set_yticklabels(df['feature'])\n",
    "        \n",
    "        plt.xlabel('Normalized Importance')\n",
    "        plt.title(title)\n",
    "        \n",
    "        plt.show()\n",
    "        \n",
    "        return df\n",
    "import xgboost as xgb\n",
    "xgb =  xgb.XGBClassifier(base_score=0.5, booster='gbtree', colsample_bylevel=1,\n",
    "       colsample_bytree=0.8, gamma=0, learning_rate=0.1, max_delta_step=0,\n",
    "       max_depth=9, min_child_weight=5, missing=None, n_estimators=10,\n",
    "       n_jobs=1, nthread=4, objective='binary:logistic', random_state=0,\n",
    "       reg_alpha=0, reg_lambda=1, scale_pos_weight=1, seed=27, silent=0,\n",
    "       subsample=0.8)\n",
    "model = xgb.fit(train_X_data,train_Y_data,eval_metric='auc')\n",
    "feature_importance_values = model.feature_importances_\n",
    "features = list(train_X_data.columns)\n",
    "\n",
    "xgb_feature_importances = pd.DataFrame({'feature':features,'importance':feature_importance_values})\n",
    "\n",
    "plot_feature_importance(xgb_feature_importances,'xgb_feature_importances')"
   ]
  },
  {
   "cell_type": "code",
   "execution_count": 3,
   "metadata": {},
   "outputs": [],
   "source": [
    "train['label'] = train['lable']\n",
    "test['label'] = train['lable']\n",
    "\n",
    "train.drop('lable',axis=1,inplace=True)\n",
    "test.drop('lable',axis=1,inplace=True)\n",
    "\n",
    "\n",
    "train['label'] = train['label'].astype(int)\n",
    "test['label'] = train['label'].astype(int)\n",
    "train_X_data = train.drop('label',axis=1)\n",
    "train_Y_data = train['label']\n",
    "vali_data = test['label']\n",
    "test_X_data = test.drop('label',axis=1)\n",
    "pd.set_option('display.max_columns',55)"
   ]
  }
 ],
 "metadata": {
  "kernelspec": {
   "display_name": "Python 3",
   "language": "python",
   "name": "python3"
  },
  "language_info": {
   "codemirror_mode": {
    "name": "ipython",
    "version": 3
   },
   "file_extension": ".py",
   "mimetype": "text/x-python",
   "name": "python",
   "nbconvert_exporter": "python",
   "pygments_lexer": "ipython3",
   "version": "3.6.5"
  }
 },
 "nbformat": 4,
 "nbformat_minor": 2
}
