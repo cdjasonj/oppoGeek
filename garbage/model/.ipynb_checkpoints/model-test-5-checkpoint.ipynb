{
 "cells": [
  {
   "cell_type": "code",
   "execution_count": 86,
   "metadata": {},
   "outputs": [],
   "source": [
    "import pandas as pd\n",
    "train= pd.read_csv('E:/competionfile/oppo/data/train_0.792.csv')\n",
    "test = pd.read_csv('E:/competionfile/oppo/data/vali_0.792.csv')\n",
    "train_prefix_count_dict = train.groupby('prefix')['prefix'].count()\n",
    "# train = train[ train['prefix'].astype(str).map( lambda x : train_prefix_count_dict[x] if x != 'nan' else 0 ) > 2  ]\n",
    "# test = test[ test['prefix'].astype(str).map( lambda x : train_prefix_count_dict.get(x,0)) > 0 ]\n",
    "train_data = train\n",
    "test_data  = test\n",
    "co_list = [ 'prefix', 'query_prediction', 'title', 'tag']\n",
    "train_data = train.drop(co_list , axis = 1 )\n",
    "test_data = test.drop(co_list, axis = 1 )\n",
    "\n",
    "\n",
    "train_X_data = train_data.drop(['label'],axis=1)\n",
    "train_Y_data = train_data['label']\n",
    "test_X_data = test_data.drop(['label'],axis=1)\n",
    "vali_data = test_data['label']\n",
    "pd.set_option('display.max_columns',55)"
   ]
  },
  {
   "cell_type": "code",
   "execution_count": 42,
   "metadata": {},
   "outputs": [],
   "source": [
    "# train['prefix'].astype(str).map( lambda x : train_prefix_count_dict[x] if x != 'nan' else 0 )"
   ]
  },
  {
   "cell_type": "code",
   "execution_count": 87,
   "metadata": {},
   "outputs": [
    {
     "data": {
      "image/png": "[encoded data removed]",
      "text/plain": [
       "<Figure size 720x432 with 1 Axes>"
      ]
     },
     "metadata": {},
     "output_type": "display_data"
    },
    {
     "name": "stdout",
     "output_type": "stream",
     "text": [
      "xgb_predict\n",
      "             precision    recall  f1-score   support\n",
      "\n",
      "          0  0.80688092 0.88393710 0.84365316     31414\n",
      "          1  0.76605711 0.64239978 0.69880012     18585\n",
      "\n",
      "avg / total  0.79170641 0.79415588 0.78981021     49999\n",
      "\n"
     ]
    },
    {
     "name": "stderr",
     "output_type": "stream",
     "text": [
      "d:\\Users\\tkhoon\\Anaconda3\\lib\\site-packages\\sklearn\\preprocessing\\label.py:151: DeprecationWarning: The truth value of an empty array is ambiguous. Returning False, but in future this will result in an error. Use `array.size > 0` to check that an array is not empty.\n",
      "  if diff:\n"
     ]
    }
   ],
   "source": [
    "#用xgb跑一下\n",
    "from pylab import mpl\n",
    "from matplotlib import pyplot as plt\n",
    "mpl.rcParams['font.sans-serif'] = ['SimHei'] \n",
    "def plot_feature_importance(df,title):\n",
    "        \"\"\"\n",
    "    Plot importances returned by a model. This can work with any measure of\n",
    "    feature importance provided that higher importance is better. \n",
    "    \n",
    "    Args:\n",
    "        df (dataframe): feature importances. Must have the features in a column\n",
    "        called `features` and the importances in a column called `importance\n",
    "        \n",
    "    Returns:\n",
    "        shows a plot of the 15 most importance features\n",
    "        \n",
    "        df (dataframe): feature importances sorted by importance (highest to lowest) \n",
    "        with a column for normalized importance\n",
    "        \"\"\"\n",
    "        df = df.sort_values('importance',ascending = False,).reset_index()\n",
    "        df['importance_normalized'] = df['importance']/df['importance'].sum()\n",
    "        \n",
    "        plt.figure(figsize=(10,6))\n",
    "        ax = plt.subplot()\n",
    "        \n",
    "        #取前15个feature\n",
    "        ax.barh(list(reversed(list(df.index[:]))), df['importance_normalized'], align = 'center', edgecolor = 'k')\n",
    "        \n",
    "        ax.set_yticks(list(reversed(list(df.index[:]))))\n",
    "        ax.set_yticklabels(df['feature'])\n",
    "        \n",
    "        plt.xlabel('Normalized Importance')\n",
    "        plt.title(title)\n",
    "        \n",
    "        plt.show()\n",
    "        \n",
    "        return df\n",
    "import xgboost as xgb\n",
    "xgb =  xgb.XGBClassifier(base_score=0.5, booster='gbtree', colsample_bylevel=1,\n",
    "       colsample_bytree=0.8, gamma=0, learning_rate=0.1, max_delta_step=0,\n",
    "       max_depth=9, min_child_weight=5, missing=None, n_estimators=10,\n",
    "       n_jobs=1, nthread=4, objective='binary:logistic', random_state=0,\n",
    "       reg_alpha=0, reg_lambda=1, scale_pos_weight=1, seed=27, silent=0,\n",
    "       subsample=0.8)\n",
    "model = xgb.fit(train_X_data,train_Y_data,eval_metric='auc')\n",
    "feature_importance_values = model.feature_importances_\n",
    "features = list(train_X_data.columns)\n",
    "\n",
    "xgb_feature_importances = pd.DataFrame({'feature':features,'importance':feature_importance_values})\n",
    "\n",
    "plot_feature_importance(xgb_feature_importances,'xgb_feature_importances')\n",
    "from sklearn.metrics import classification_report\n",
    "xgb_predict_label = model.predict(test_X_data)\n",
    "print('xgb_predict') \n",
    "print(classification_report(vali_data,xgb_predict_label,digits=8))"
   ]
  },
  {
   "cell_type": "code",
   "execution_count": 11,
   "metadata": {},
   "outputs": [
    {
     "ename": "AttributeError",
     "evalue": "'Dataset' object has no attribute 'shape'",
     "output_type": "error",
     "traceback": [
      "\u001b[1;31m---------------------------------------------------------------------------\u001b[0m",
      "\u001b[1;31mAttributeError\u001b[0m                            Traceback (most recent call last)",
      "\u001b[1;32m<ipython-input-11-8852729f0f48>\u001b[0m in \u001b[0;36m<module>\u001b[1;34m()\u001b[0m\n\u001b[1;32m----> 1\u001b[1;33m \u001b[0mtrain_data\u001b[0m\u001b[1;33m.\u001b[0m\u001b[0mshape\u001b[0m\u001b[1;33m\u001b[0m\u001b[0m\n\u001b[0m",
      "\u001b[1;31mAttributeError\u001b[0m: 'Dataset' object has no attribute 'shape'"
     ]
    }
   ],
   "source": [
    "train_data.shape"
   ]
  },
  {
   "cell_type": "code",
   "execution_count": 84,
   "metadata": {},
   "outputs": [
    {
     "name": "stdout",
     "output_type": "stream",
     "text": [
      "[1]\tvalid_0's l1: 0.372302\tvalid_0's myFeval: 0.711415\n",
      "[2]\tvalid_0's l1: 0.372898\tvalid_0's myFeval: 0.711321\n",
      "[3]\tvalid_0's l1: 0.373491\tvalid_0's myFeval: 0.711219\n",
      "[4]\tvalid_0's l1: 0.374086\tvalid_0's myFeval: 0.711125\n",
      "[5]\tvalid_0's l1: 0.37468\tvalid_0's myFeval: 0.711269\n",
      "xgb_predict\n",
      "             precision    recall  f1-score   support\n",
      "\n",
      "          0  0.82169146 0.85640160 0.83868755     31414\n",
      "          1  0.73861398 0.68587571 0.71126859     18585\n",
      "\n",
      "avg / total  0.79081094 0.79301586 0.79132498     49999\n",
      "\n"
     ]
    }
   ],
   "source": [
    "from sklearn.metrics import f1_score\n",
    "import lightgbm as lgb\n",
    "params = {'metric': 'l1',\n",
    "          'boosting_type': 'gbdt',\n",
    "          'max_depth':8,\n",
    "          'num_leaves':300,\n",
    "          'num_threads':4,\n",
    "          'objective':'binary',\n",
    "          'bagging_fraction':0.5,\n",
    "          # 'bagging_freq':1,\n",
    "          'learning_rate' : 0.001,\n",
    "          'min_data_in_leaf' : 5,\n",
    "#           'min_data_per_group' : 1,\n",
    "          # 'weight' : ''\n",
    "          }\n",
    "\n",
    "def myFeval(   preds, train):\n",
    "#     aa = pd.Series(train.get_label()).map( lambda x: 1 if x >= 0.5 else 0 )\n",
    "#     print()\n",
    "    score = f1_score(train.get_label(),pd.Series(preds).map( lambda x: 1 if x >= 0.5 else 0 ))\n",
    "    return 'myFeval',score,False\n",
    "train_data = lgb.Dataset( train_X_data , train_Y_data ,free_raw_data=False ,  )\n",
    "test_data = lgb.Dataset( test_X_data , vali_data , reference= train_data )\n",
    "gbm = lgb.train(params,train_data,valid_sets=test_data,num_boost_round=5,feval = myFeval )\n",
    "\n",
    "from sklearn.metrics import classification_report\n",
    "xgb_predict_label = gbm.predict(test_X_data )\n",
    "xgb_predict_label = pd.Series( xgb_predict_label  ).map(lambda x : 1 if x>= 0.5 else 0)\n",
    "print('xgb_predict') \n",
    "print(classification_report(vali_data,xgb_predict_label,digits=8))"
   ]
  },
  {
   "cell_type": "code",
   "execution_count": 22,
   "metadata": {},
   "outputs": [],
   "source": [
    "##取出验证集中的老词\n",
    "test_old = test[ test['prefix'].astype(str).map( lambda x : train_prefix_count_dict.get(x,0) ) > 0  ]"
   ]
  },
  {
   "cell_type": "code",
   "execution_count": 25,
   "metadata": {},
   "outputs": [],
   "source": [
    "xgb_predict_label.to_csv('E:/competionfile/oppo/result/old_new_split_old.csv',index=False)"
   ]
  },
  {
   "cell_type": "code",
   "execution_count": 38,
   "metadata": {},
   "outputs": [],
   "source": [
    "##将测试集中的数据分为新老\n",
    "import pandas as pd\n",
    "# train_data = pd.read_csv('E:/competionfile/oppo/new/oppo_round1_train_20180929/oppo_round1_train_20180929.txt',names=['prefix','query_prediction','title','tag','lable'],header=None)\n",
    "# testAdata  = pd.read_csv('E:/competionfile/oppo/data/test_data_0.792.csv')\n",
    "# testAdata_orignal = pd.read_csv('E:/competionfile/oppo/new/oppo_round1_train_20180929/oppo_round1_test_A_20180929.txt',names=[0,1,2,3],header=None,)\n",
    "# train_data = pd.read_table('E:/competionfile/oppo/new/oppo_round1_train_20180929/oppo_round1_train_20180929.txt',names=[0,1,2,3,4],header=None,encoding='utf8').astype(str)\n",
    "# testAdata_orignal  = pd.read_table('E:/competionfile/oppo/new/oppo_round1_train_20180929/oppo_round1_test_A_20180929.txt',names=[0,1,2,3],header=None,encoding='utf8')\n",
    "# testAdata_orignal.columns = ['prefix','query_prediction','title','tag']\n",
    "train_data.columns = ['prefix','query_prediction','title','tag','label']"
   ]
  },
  {
   "cell_type": "code",
   "execution_count": 79,
   "metadata": {},
   "outputs": [],
   "source": [
    "# testAdata_orignal"
   ]
  },
  {
   "cell_type": "code",
   "execution_count": 80,
   "metadata": {},
   "outputs": [],
   "source": [
    "\n",
    "# train_prefix_count_dict = train_data.groupby('prefix')['prefix'].count()\n",
    "# testAdata_old = testAdata[ testAdata_orignal['prefix'].astype(str).map( lambda x : train_prefix_count_dict.get(x,0) ) > 0  ]\n",
    "# testAdata_orignal_old = testAdata_orignal[ testAdata_orignal['prefix'].astype(str).map( lambda x : train_prefix_count_dict.get(x,0) ) > 0  ]\n",
    "# testAdata_orignal_new = testAdata_orignal[ testAdata_orignal['prefix'].astype(str).map( lambda x : train_prefix_count_dict.get(x,0) ) == 0  ]\n",
    "\n",
    "testAdata_orignal_old.to_csv('E:/competionfile/oppo/data/data_split/testAdata_orignal_old.csv')\n",
    "testAdata_orignal_new.to_csv('E:/competionfile/oppo/data/data_split/testAdata_orignal_new.csv')\n"
   ]
  },
  {
   "cell_type": "code",
   "execution_count": 61,
   "metadata": {},
   "outputs": [],
   "source": [
    "# testAdata_old_lgb_predict_label = gbm.predict( testAdata_old )"
   ]
  },
  {
   "cell_type": "code",
   "execution_count": null,
   "metadata": {},
   "outputs": [],
   "source": [
    "print(len(testAdata_old_lgb_predict_label),len())"
   ]
  },
  {
   "cell_type": "code",
   "execution_count": 81,
   "metadata": {},
   "outputs": [
    {
     "name": "stderr",
     "output_type": "stream",
     "text": [
      "d:\\Users\\tkhoon\\Anaconda3\\lib\\site-packages\\ipykernel_launcher.py:2: SettingWithCopyWarning: \n",
      "A value is trying to be set on a copy of a slice from a DataFrame.\n",
      "Try using .loc[row_indexer,col_indexer] = value instead\n",
      "\n",
      "See the caveats in the documentation: http://pandas.pydata.org/pandas-docs/stable/indexing.html#indexing-view-versus-copy\n",
      "  \n"
     ]
    }
   ],
   "source": [
    "# testAdata_old\n",
    "testAdata_orignal_old['result'] = testAdata_old_lgb_predict_label"
   ]
  },
  {
   "cell_type": "code",
   "execution_count": 76,
   "metadata": {},
   "outputs": [],
   "source": [
    "# pd.set_option('display.max_rows',1000)\n",
    "# testAdata_orignal_old"
   ]
  },
  {
   "cell_type": "code",
   "execution_count": 82,
   "metadata": {},
   "outputs": [],
   "source": [
    "testAdata_orignal_old['result'].to_csv('E:/competionfile/oppo/result/testAdata_old_lgb_predict_label.csv')"
   ]
  }
 ],
 "metadata": {
  "kernelspec": {
   "display_name": "Python 3",
   "language": "python",
   "name": "python3"
  },
  "language_info": {
   "codemirror_mode": {
    "name": "ipython",
    "version": 3
   },
   "file_extension": ".py",
   "mimetype": "text/x-python",
   "name": "python",
   "nbconvert_exporter": "python",
   "pygments_lexer": "ipython3",
   "version": "3.6.5"
  }
 },
 "nbformat": 4,
 "nbformat_minor": 2
}
