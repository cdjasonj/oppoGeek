{
 "cells": [
  {
   "cell_type": "code",
   "execution_count": 2,
   "metadata": {},
   "outputs": [],
   "source": [
    "import pandas as pd\n",
    "# train= pd.read_csv('E:/competionfile/oppo/data/train_0.792.csv')\n",
    "# test = pd.read_csv('E:/competionfile/oppo/data/test_0.792.csv')\n",
    "# co_list = [ 'prefix', 'query_prediction', 'title', 'tag']\n",
    "train_data = train.drop(co_list , axis = 1 )\n",
    "test_data = test.drop(co_list, axis = 1 )\n",
    "train_X_data = train_data.drop(['label'],axis=1)\n",
    "train_Y_data = train_data['label']\n",
    "test_X_data = test_data.drop(['label'],axis=1)\n",
    "vali_data = test_data['label']\n",
    "pd.set_option('display.max_columns',55)"
   ]
  },
  {
   "cell_type": "code",
   "execution_count": 187,
   "metadata": {},
   "outputs": [],
   "source": [
    "# 加入Prefix_title_tag_ctr\n",
    "# prefix_title_tag_ctr = pd.read_csv('E:/competionfile/oppo/data/singleFeature/prefix_title_tag_ctr.csv',header=None)\n",
    "# test_prefix_title_tag_ctr = pd.read_csv('E:/competionfile/oppo/data/singleFeature/test_prefix_title_tag_ctr.csv',header=None)\n",
    "# train_X_data['prefix_title_tag_ctr'] = prefix_title_tag_ctr\n",
    "# test_X_data['prefix_title_tag_ctr'] = test_prefix_title_tag_ctr\n",
    "train_X_data.drop('prefix_title_tag_ctr',axis=1,inplace=True)\n",
    "test_X_data.drop('prefix_title_tag_ctr',axis=1,inplace=True)"
   ]
  },
  {
   "cell_type": "code",
   "execution_count": 8,
   "metadata": {},
   "outputs": [],
   "source": [
    "ca = pd.read_csv('E:/competionfile/oppo/data/singleFeature/cixing-a.csv',header=None)"
   ]
  },
  {
   "cell_type": "code",
   "execution_count": 9,
   "metadata": {},
   "outputs": [
    {
     "data": {
      "text/plain": [
       "(1999998, 1)"
      ]
     },
     "execution_count": 9,
     "metadata": {},
     "output_type": "execute_result"
    }
   ],
   "source": [
    "ca.shape"
   ]
  },
  {
   "cell_type": "code",
   "execution_count": 7,
   "metadata": {},
   "outputs": [],
   "source": [
    "import pandas as pd\n",
    "# smooth_pre_title_tag_ctr_rank\n",
    "# smooth_pre_title_tag_ctr_rank = pd.read_csv('E:/competionfile/oppo/data/singleFeature/smooth_pre_title_ctr_rank.csv',header=None)\n",
    "# test_smooth_pre_title_tag_ctr_rank = pd.read_csv('E:/competionfile/oppo/data/singleFeature/test_smooth_pre_title_ctr_rank.csv',header=None)\n",
    "# train_X_data['smooth_pre_title_tag_ctr_rank'] = smooth_pre_title_tag_ctr_rank\n",
    "# test_X_data['smooth_pre_title_tag_ctr_rank'] = test_smooth_pre_title_tag_ctr_rank\n",
    "# train_X_data.drop('prefix_title_tag_ctr',axis=1,inplace=True)\n",
    "# test_X_data.drop('prefix_title_tag_ctr',axis=1,inplace=True)\n",
    "def getRank( rankstr ):\n",
    "    if type(rankstr) == float:\n",
    "        return 0\n",
    "    else:\n",
    "        rank = rankstr.replace('(','').replace(')','').split(',')[0]\n",
    "        return rank\n",
    "# smooth_pre_title_tag_ctr_rank = smooth_pre_title_tag_ctr_rank[0].map(getRank)\n",
    "# test_smooth_pre_title_tag_ctr_rank = test_smooth_pre_title_tag_ctr_rank[0].map(getRank)\n",
    "\n",
    "# smooth_pre_title_tag_ctr_rank.to_csv('E:/competionfile/oppo/data/singleFeature/smooth_pre_title_ctr_rank.csv',index=False)\n",
    "# test_smooth_pre_title_tag_ctr_rank.to_csv('E:/competionfile/oppo/data/singleFeature/test_smooth_pre_title_ctr_rank.csv',index=False)\n",
    "\n",
    "# smooth_pre_title_tag_ctr_rank.shape\n",
    "# test_smooth_pre_title_tag_ctr_rank.shape"
   ]
  },
  {
   "cell_type": "code",
   "execution_count": 63,
   "metadata": {},
   "outputs": [],
   "source": [
    "# train_X_data['smooth_pre_title_tag_ctr_rank']"
   ]
  },
  {
   "cell_type": "code",
   "execution_count": 65,
   "metadata": {},
   "outputs": [],
   "source": [
    "def getRank( rankstr ):\n",
    "    if type(rankstr) == float:\n",
    "        return 0\n",
    "    else:\n",
    "        rank = rankstr.replace('(','').replace(')','').split(',')[0]\n",
    "        return rank\n",
    "test_X_data['smooth_pre_title_tag_ctr_rank'] = test_X_data['smooth_pre_title_tag_ctr_rank'].map(getRank)\n",
    "train_X_data['smooth_pre_title_tag_ctr_rank'] = train_X_data['smooth_pre_title_tag_ctr_rank'].map(getRank)"
   ]
  },
  {
   "cell_type": "code",
   "execution_count": 66,
   "metadata": {},
   "outputs": [],
   "source": [
    "# train_X_data.drop( 'smooth_pre_title_tag_ctr_rank1' , axis=1 ,inplace=True )\n",
    "train_X_data['smooth_pre_title_tag_ctr_rank'] =train_X_data['smooth_pre_title_tag_ctr_rank'].astype(int)\n",
    "test_X_data['smooth_pre_title_tag_ctr_rank'] =test_X_data['smooth_pre_title_tag_ctr_rank'].astype(int)"
   ]
  },
  {
   "cell_type": "code",
   "execution_count": 22,
   "metadata": {},
   "outputs": [
    {
     "ename": "TypeError",
     "evalue": "must be real number, not str",
     "output_type": "error",
     "traceback": [
      "\u001b[1;31m---------------------------------------------------------------------------\u001b[0m",
      "\u001b[1;31mTypeError\u001b[0m                                 Traceback (most recent call last)",
      "\u001b[1;32m<ipython-input-22-0a7657f16590>\u001b[0m in \u001b[0;36m<module>\u001b[1;34m()\u001b[0m\n\u001b[0;32m      2\u001b[0m \u001b[1;32mimport\u001b[0m \u001b[0mmath\u001b[0m\u001b[1;33m\u001b[0m\u001b[0m\n\u001b[0;32m      3\u001b[0m \u001b[1;31m# test_X_data[ test_X_data['smooth_pre_title_tag_ctr_rank'].isnull() ].shape\u001b[0m\u001b[1;33m\u001b[0m\u001b[1;33m\u001b[0m\u001b[0m\n\u001b[1;32m----> 4\u001b[1;33m \u001b[0mtest_X_data\u001b[0m\u001b[1;33m[\u001b[0m\u001b[1;34m'smooth_pre_title_tag_ctr_rank'\u001b[0m\u001b[1;33m]\u001b[0m \u001b[1;33m=\u001b[0m \u001b[0mtest_X_data\u001b[0m\u001b[1;33m[\u001b[0m\u001b[1;34m'smooth_pre_title_tag_ctr_rank'\u001b[0m\u001b[1;33m]\u001b[0m\u001b[1;33m.\u001b[0m\u001b[0mmap\u001b[0m\u001b[1;33m(\u001b[0m\u001b[1;32mlambda\u001b[0m \u001b[0mx\u001b[0m \u001b[1;33m:\u001b[0m \u001b[1;32mNone\u001b[0m \u001b[1;32mif\u001b[0m \u001b[0mmath\u001b[0m\u001b[1;33m.\u001b[0m\u001b[0misnan\u001b[0m\u001b[1;33m(\u001b[0m\u001b[0mx\u001b[0m\u001b[1;33m)\u001b[0m \u001b[1;32melse\u001b[0m  \u001b[0mx\u001b[0m \u001b[1;33m)\u001b[0m\u001b[1;33m\u001b[0m\u001b[0m\n\u001b[0m",
      "\u001b[1;32md:\\Users\\tkhoon\\Anaconda3\\lib\\site-packages\\pandas\\core\\series.py\u001b[0m in \u001b[0;36mmap\u001b[1;34m(self, arg, na_action)\u001b[0m\n\u001b[0;32m   2994\u001b[0m         \"\"\"\n\u001b[0;32m   2995\u001b[0m         new_values = super(Series, self)._map_values(\n\u001b[1;32m-> 2996\u001b[1;33m             arg, na_action=na_action)\n\u001b[0m\u001b[0;32m   2997\u001b[0m         return self._constructor(new_values,\n\u001b[0;32m   2998\u001b[0m                                  index=self.index).__finalize__(self)\n",
      "\u001b[1;32md:\\Users\\tkhoon\\Anaconda3\\lib\\site-packages\\pandas\\core\\base.py\u001b[0m in \u001b[0;36m_map_values\u001b[1;34m(self, mapper, na_action)\u001b[0m\n\u001b[0;32m   1002\u001b[0m \u001b[1;33m\u001b[0m\u001b[0m\n\u001b[0;32m   1003\u001b[0m         \u001b[1;31m# mapper is a function\u001b[0m\u001b[1;33m\u001b[0m\u001b[1;33m\u001b[0m\u001b[0m\n\u001b[1;32m-> 1004\u001b[1;33m         \u001b[0mnew_values\u001b[0m \u001b[1;33m=\u001b[0m \u001b[0mmap_f\u001b[0m\u001b[1;33m(\u001b[0m\u001b[0mvalues\u001b[0m\u001b[1;33m,\u001b[0m \u001b[0mmapper\u001b[0m\u001b[1;33m)\u001b[0m\u001b[1;33m\u001b[0m\u001b[0m\n\u001b[0m\u001b[0;32m   1005\u001b[0m \u001b[1;33m\u001b[0m\u001b[0m\n\u001b[0;32m   1006\u001b[0m         \u001b[1;32mreturn\u001b[0m \u001b[0mnew_values\u001b[0m\u001b[1;33m\u001b[0m\u001b[0m\n",
      "\u001b[1;32mpandas/_libs/src\\inference.pyx\u001b[0m in \u001b[0;36mpandas._libs.lib.map_infer\u001b[1;34m()\u001b[0m\n",
      "\u001b[1;32m<ipython-input-22-0a7657f16590>\u001b[0m in \u001b[0;36m<lambda>\u001b[1;34m(x)\u001b[0m\n\u001b[0;32m      2\u001b[0m \u001b[1;32mimport\u001b[0m \u001b[0mmath\u001b[0m\u001b[1;33m\u001b[0m\u001b[0m\n\u001b[0;32m      3\u001b[0m \u001b[1;31m# test_X_data[ test_X_data['smooth_pre_title_tag_ctr_rank'].isnull() ].shape\u001b[0m\u001b[1;33m\u001b[0m\u001b[1;33m\u001b[0m\u001b[0m\n\u001b[1;32m----> 4\u001b[1;33m \u001b[0mtest_X_data\u001b[0m\u001b[1;33m[\u001b[0m\u001b[1;34m'smooth_pre_title_tag_ctr_rank'\u001b[0m\u001b[1;33m]\u001b[0m \u001b[1;33m=\u001b[0m \u001b[0mtest_X_data\u001b[0m\u001b[1;33m[\u001b[0m\u001b[1;34m'smooth_pre_title_tag_ctr_rank'\u001b[0m\u001b[1;33m]\u001b[0m\u001b[1;33m.\u001b[0m\u001b[0mmap\u001b[0m\u001b[1;33m(\u001b[0m\u001b[1;32mlambda\u001b[0m \u001b[0mx\u001b[0m \u001b[1;33m:\u001b[0m \u001b[1;32mNone\u001b[0m \u001b[1;32mif\u001b[0m \u001b[0mmath\u001b[0m\u001b[1;33m.\u001b[0m\u001b[0misnan\u001b[0m\u001b[1;33m(\u001b[0m\u001b[0mx\u001b[0m\u001b[1;33m)\u001b[0m \u001b[1;32melse\u001b[0m  \u001b[0mx\u001b[0m \u001b[1;33m)\u001b[0m\u001b[1;33m\u001b[0m\u001b[0m\n\u001b[0m",
      "\u001b[1;31mTypeError\u001b[0m: must be real number, not str"
     ]
    }
   ],
   "source": [
    "import numpy as np\n",
    "import math\n",
    "# test_X_data[ test_X_data['smooth_pre_title_tag_ctr_rank'].isnull() ].shape\n",
    "test_X_data['smooth_pre_title_tag_ctr_rank'] = test_X_data['smooth_pre_title_tag_ctr_rank'].map(lambda x : None if math.isnan(x) else  x )"
   ]
  },
  {
   "cell_type": "code",
   "execution_count": 164,
   "metadata": {},
   "outputs": [],
   "source": [
    "# 加入Prefix_title_tag_ctr\n",
    "avg_predict_title_dis = pd.read_csv('E:/competionfile/oppo/data/singleFeature/avgpredictwzdis.csv',header=None)\n",
    "train_X_data['avg_predict_title_dis'] = avg_predict_title_dis\n",
    "test_X_data['test_avg_predict_title_dis'] = test_avg_predict_title_dis\n",
    "# train_X_data.drop('prefix_title_tag_ctr',axis=1,inplace=True)\n",
    "# test_X_data.drop('prefix_title_tag_ctr',axis=1,inplace=True)"
   ]
  },
  {
   "cell_type": "code",
   "execution_count": 160,
   "metadata": {},
   "outputs": [],
   "source": [
    "##加上pre_title_ctr_rank\n",
    "pre_title_ctr_rank = pd.read_csv('E:/competionfile/oppo/data/singleFeature/pre_title_ctr_rank.csv',header=None)\n",
    "test_pre_title_ctr_rank = pd.read_csv('E:/competionfile/oppo/data/singleFeature/test_pre_title_ctr_rank.csv',header=None)\n",
    "train_X_data['pre_title_ctr_rank'] = pre_title_ctr_rank\n",
    "test_X_data['pre_title_ctr_rank'] = test_pre_title_ctr_rank"
   ]
  },
  {
   "cell_type": "code",
   "execution_count": 38,
   "metadata": {},
   "outputs": [],
   "source": [
    "test_X_data = test_X_data.fillna(2)"
   ]
  },
  {
   "cell_type": "code",
   "execution_count": 107,
   "metadata": {},
   "outputs": [],
   "source": [
    "# train_X_data"
   ]
  },
  {
   "cell_type": "code",
   "execution_count": 12,
   "metadata": {},
   "outputs": [],
   "source": [
    "import pandas as pd\n",
    "\n",
    "header = ['tag', 'title_count', 'tag_count', 'prefix_tag_count',\n",
    "       'prefix_title_count', 'prefix_title_tag_count', 'prefix_pred_0',\n",
    "       'prefix_pred_1', 'title_ctr', 'prefix_ctr', 'tag_ctr', 'prefix_tag_ctr',\n",
    "       'title_tag_ctr', 'prefix_title_ctr', 'smi_pre_ti', 'prefix_len',\n",
    "       'title_len']\n",
    "train_X_data= pd.read_csv('E:/competionfile/oppo/data/792/train_X_data.csv' )\n",
    "train_X_data.columns = header\n",
    "test_X_data= pd.read_csv('E:/competionfile/oppo/data/792/test.csv' )\n",
    "test_X_data.columns = header\n",
    "\n",
    "train_Y_data = pd.read_csv('E:/competionfile/oppo/data/792/train_Y_data.csv',header=None)\n",
    "vali_data = pd.read_csv('E:/competionfile/oppo/data/792/vali_data.csv',header=None)"
   ]
  },
  {
   "cell_type": "code",
   "execution_count": 19,
   "metadata": {},
   "outputs": [],
   "source": [
    "##加上词性\n",
    "cixing_a = pd.read_csv('E:/competionfile/oppo/data/singleFeature/cixing-a.csv',header=None)\n",
    "test_cixing_a = pd.read_csv('E:/competionfile/oppo/data/singleFeature/test_cixing-a.csv',header=None)\n",
    "\n",
    "cixing_m = pd.read_csv('E:/competionfile/oppo/data/singleFeature/cixing-m.csv',header=None)\n",
    "test_cixing_m = pd.read_csv('E:/competionfile/oppo/data/singleFeature/test_cixing-m.csv',header=None)\n",
    "\n",
    "cixing_n = pd.read_csv('E:/competionfile/oppo/data/singleFeature/cixing-n.csv',header=None)\n",
    "test_cixing_n = pd.read_csv('E:/competionfile/oppo/data/singleFeature/test_cixing-n.csv',header=None)\n",
    "\n",
    "cixing_v = pd.read_csv('E:/competionfile/oppo/data/singleFeature/cixing-v.csv',header=None)\n",
    "test_cixing_v = pd.read_csv('E:/competionfile/oppo/data/singleFeature/test_cixing-v.csv',header=None)\n",
    "\n",
    "\n",
    "train_X_data['cixing-a'] = cixing_a\n",
    "test_X_data['cixing-a'] = test_cixing_a\n",
    "train_X_data['cixing-m'] = cixing_m\n",
    "test_X_data['cixing-m'] = test_cixing_m\n",
    "\n",
    "train_X_data['cixing-n'] = cixing_n\n",
    "test_X_data['cixing-n'] = test_cixing_n\n",
    "\n",
    "\n",
    "train_X_data['cixing-v'] = cixing_v\n",
    "test_X_data['cixing-v'] = test_cixing_v"
   ]
  },
  {
   "cell_type": "code",
   "execution_count": 148,
   "metadata": {},
   "outputs": [],
   "source": [
    "## 加入 prediction_3_avg_point\n",
    "# train_X_data.drop('prediction_10_avg_point',axis=1,inplace=True)\n",
    "# test_X_data.drop('prediction_10_avg_point',axis=1,inplace=True)\n",
    "prediction_3_avg_point = pd.read_csv('E:/competionfile/oppo/data/singleFeature/prediction_3_avg_point.csv',header=None)\n",
    "test_prediction_3_avg_point = pd.read_csv('E:/competionfile/oppo/data/singleFeature/test_prediction_3_avg_point.csv',header=None)\n",
    "train_X_data['prediction_3_avg_point'] = prediction_3_avg_point\n",
    "test_X_data['prediction_3_avg_point'] = test_prediction_3_avg_point"
   ]
  },
  {
   "cell_type": "code",
   "execution_count": 144,
   "metadata": {},
   "outputs": [],
   "source": [
    "## 加入 prediction_1_avg_point\n",
    "train_X_data.drop('prediction_3_avg_point',axis=1,inplace=True)\n",
    "test_X_data.drop('prediction_3_avg_point',axis=1,inplace=True)\n",
    "prediction_1_avg_point = pd.read_csv('E:/competionfile/oppo/data/singleFeature/prediction_1_avg_point.csv',header=None)\n",
    "test_prediction_1_avg_point = pd.read_csv('E:/competionfile/oppo/data/singleFeature/test_prediction_1_avg_point.csv',header=None)\n",
    "train_X_data['prediction_1_avg_point'] = prediction_1_avg_point\n",
    "test_X_data['prediction_1_avg_point'] = test_prediction_1_avg_point"
   ]
  },
  {
   "cell_type": "code",
   "execution_count": 146,
   "metadata": {},
   "outputs": [],
   "source": [
    "## 去掉prediction_3_avg_point\n",
    "## 加入 prediction_10_avg_point\n",
    "train_X_data.drop('prediction_1_avg_point',axis=1,inplace=True)\n",
    "test_X_data.drop('prediction_1_avg_point',axis=1,inplace=True)\n",
    "# prediction_10_avg_point = pd.read_csv('E:/competionfile/oppo/data/singleFeature/prediction_10_avg_point.csv',header=None)\n",
    "# test_prediction_10_avg_point = pd.read_csv('E:/competionfile/oppo/data/singleFeature/test_prediction_10_avg_point.csv',header=None)\n",
    "# train_X_data['prediction_10_avg_point'] = prediction_10_avg_point\n",
    "# test_X_data['prediction_10_avg_point'] = test_prediction_10_avg_point"
   ]
  },
  {
   "cell_type": "code",
   "execution_count": 135,
   "metadata": {},
   "outputs": [
    {
     "data": {
      "text/plain": [
       "Index(['tag', 'title_count', 'tag_count', 'prefix_tag_count',\n",
       "       'prefix_title_count', 'prefix_title_tag_count', 'prefix_pred_0',\n",
       "       'prefix_pred_1', 'title_ctr', 'prefix_ctr', 'tag_ctr', 'prefix_tag_ctr',\n",
       "       'title_tag_ctr', 'prefix_title_ctr', 'smi_pre_ti', 'prefix_len',\n",
       "       'title_len', 'prediction_10_avg_point'],\n",
       "      dtype='object')"
      ]
     },
     "execution_count": 135,
     "metadata": {},
     "output_type": "execute_result"
    }
   ],
   "source": [
    "test_X_data.columns"
   ]
  },
  {
   "cell_type": "code",
   "execution_count": 112,
   "metadata": {},
   "outputs": [],
   "source": [
    "Threectr= pd.read_csv('E:/competionfile/oppo/data/model-test-old-new-fenli/3ctr.csv')\n",
    "prefix_ctr = Threectr['prefix_ctr']\n",
    "prefix_tag_ctr= Threectr['prefix_tag_ctr']\n",
    "prefix_title_ctr = Threectr['prefix_title_ctr']\n",
    "\n",
    "train_X_data['prefix_ctr'] = Threectr['prefix_ctr']\n",
    "train_X_data['prefix_tag_ctr'] = Threectr['prefix_tag_ctr']\n",
    "train_X_data['prefix_title_ctr'] = Threectr['prefix_title_ctr']\n"
   ]
  },
  {
   "cell_type": "code",
   "execution_count": 114,
   "metadata": {},
   "outputs": [
    {
     "name": "stdout",
     "output_type": "stream",
     "text": [
      "<class 'pandas.core.frame.DataFrame'>\n",
      "RangeIndex: 1999994 entries, 0 to 1999993\n",
      "Data columns (total 17 columns):\n",
      "tag                       float64\n",
      "title_count               float64\n",
      "tag_count                 float64\n",
      "prefix_tag_count          float64\n",
      "prefix_title_count        float64\n",
      "prefix_title_tag_count    float64\n",
      "prefix_pred_0             float64\n",
      "prefix_pred_1             float64\n",
      "title_ctr                 float64\n",
      "prefix_ctr                float64\n",
      "tag_ctr                   float64\n",
      "prefix_tag_ctr            float64\n",
      "title_tag_ctr             float64\n",
      "prefix_title_ctr          float64\n",
      "smi_pre_ti                float64\n",
      "prefix_len                float64\n",
      "title_len                 float64\n",
      "dtypes: float64(17)\n",
      "memory usage: 259.4 MB\n"
     ]
    }
   ],
   "source": [
    "train_X_data.info()"
   ]
  },
  {
   "cell_type": "code",
   "execution_count": 10,
   "metadata": {},
   "outputs": [],
   "source": [
    "## 加入 pre_title_ctr_rank\n",
    "train_pre_title_ctr_rank = pd.read_csv('E:/competionfile/oppo/data/singleFeature/pre_title_ctr_rank.csv',header=None)\n",
    "test_pre_title_ctr_rank = pd.read_csv('E:/competionfile/oppo/data/singleFeature/test_pre_titletag_ctr_rank.csv',header=None)\n",
    "train_X_data['pre_title_ctr_rank'] = train_pre_title_ctr_rank\n",
    "test_X_data['pre_title_ctr_rank'] = test_pre_title_ctr_rank"
   ]
  },
  {
   "cell_type": "code",
   "execution_count": 13,
   "metadata": {},
   "outputs": [
    {
     "name": "stderr",
     "output_type": "stream",
     "text": [
      "d:\\Users\\tkhoon\\Anaconda3\\lib\\site-packages\\sklearn\\preprocessing\\label.py:95: DataConversionWarning: A column-vector y was passed when a 1d array was expected. Please change the shape of y to (n_samples, ), for example using ravel().\n",
      "  y = column_or_1d(y, warn=True)\n",
      "d:\\Users\\tkhoon\\Anaconda3\\lib\\site-packages\\sklearn\\preprocessing\\label.py:128: DataConversionWarning: A column-vector y was passed when a 1d array was expected. Please change the shape of y to (n_samples, ), for example using ravel().\n",
      "  y = column_or_1d(y, warn=True)\n"
     ]
    },
    {
     "ename": "KeyboardInterrupt",
     "evalue": "",
     "output_type": "error",
     "traceback": [
      "\u001b[1;31m---------------------------------------------------------------------------\u001b[0m",
      "\u001b[1;31mKeyboardInterrupt\u001b[0m                         Traceback (most recent call last)",
      "\u001b[1;32m<ipython-input-13-3d79c763feb2>\u001b[0m in \u001b[0;36m<module>\u001b[1;34m()\u001b[0m\n\u001b[0;32m     43\u001b[0m        \u001b[0mreg_alpha\u001b[0m\u001b[1;33m=\u001b[0m\u001b[1;36m0\u001b[0m\u001b[1;33m,\u001b[0m \u001b[0mreg_lambda\u001b[0m\u001b[1;33m=\u001b[0m\u001b[1;36m1\u001b[0m\u001b[1;33m,\u001b[0m \u001b[0mscale_pos_weight\u001b[0m\u001b[1;33m=\u001b[0m\u001b[1;36m1\u001b[0m\u001b[1;33m,\u001b[0m \u001b[0mseed\u001b[0m\u001b[1;33m=\u001b[0m\u001b[1;36m27\u001b[0m\u001b[1;33m,\u001b[0m \u001b[0msilent\u001b[0m\u001b[1;33m=\u001b[0m\u001b[1;36m0\u001b[0m\u001b[1;33m,\u001b[0m\u001b[1;33m\u001b[0m\u001b[0m\n\u001b[0;32m     44\u001b[0m        subsample=0.8)\n\u001b[1;32m---> 45\u001b[1;33m \u001b[0mmodel\u001b[0m \u001b[1;33m=\u001b[0m \u001b[0mxgb\u001b[0m\u001b[1;33m.\u001b[0m\u001b[0mfit\u001b[0m\u001b[1;33m(\u001b[0m\u001b[0mtrain_X_data\u001b[0m\u001b[1;33m,\u001b[0m\u001b[0mtrain_Y_data\u001b[0m\u001b[1;33m,\u001b[0m\u001b[0meval_metric\u001b[0m\u001b[1;33m=\u001b[0m\u001b[1;34m'auc'\u001b[0m\u001b[1;33m)\u001b[0m\u001b[1;33m\u001b[0m\u001b[0m\n\u001b[0m\u001b[0;32m     46\u001b[0m \u001b[0mfeature_importance_values\u001b[0m \u001b[1;33m=\u001b[0m \u001b[0mmodel\u001b[0m\u001b[1;33m.\u001b[0m\u001b[0mfeature_importances_\u001b[0m\u001b[1;33m\u001b[0m\u001b[0m\n\u001b[0;32m     47\u001b[0m \u001b[0mfeatures\u001b[0m \u001b[1;33m=\u001b[0m \u001b[0mlist\u001b[0m\u001b[1;33m(\u001b[0m\u001b[0mtrain_X_data\u001b[0m\u001b[1;33m.\u001b[0m\u001b[0mcolumns\u001b[0m\u001b[1;33m)\u001b[0m\u001b[1;33m\u001b[0m\u001b[0m\n",
      "\u001b[1;32md:\\Users\\tkhoon\\Anaconda3\\lib\\site-packages\\xgboost\\sklearn.py\u001b[0m in \u001b[0;36mfit\u001b[1;34m(self, X, y, sample_weight, eval_set, eval_metric, early_stopping_rounds, verbose, xgb_model, sample_weight_eval_set)\u001b[0m\n\u001b[0;32m    519\u001b[0m                               \u001b[0mearly_stopping_rounds\u001b[0m\u001b[1;33m=\u001b[0m\u001b[0mearly_stopping_rounds\u001b[0m\u001b[1;33m,\u001b[0m\u001b[1;33m\u001b[0m\u001b[0m\n\u001b[0;32m    520\u001b[0m                               \u001b[0mevals_result\u001b[0m\u001b[1;33m=\u001b[0m\u001b[0mevals_result\u001b[0m\u001b[1;33m,\u001b[0m \u001b[0mobj\u001b[0m\u001b[1;33m=\u001b[0m\u001b[0mobj\u001b[0m\u001b[1;33m,\u001b[0m \u001b[0mfeval\u001b[0m\u001b[1;33m=\u001b[0m\u001b[0mfeval\u001b[0m\u001b[1;33m,\u001b[0m\u001b[1;33m\u001b[0m\u001b[0m\n\u001b[1;32m--> 521\u001b[1;33m                               verbose_eval=verbose, xgb_model=None)\n\u001b[0m\u001b[0;32m    522\u001b[0m \u001b[1;33m\u001b[0m\u001b[0m\n\u001b[0;32m    523\u001b[0m         \u001b[0mself\u001b[0m\u001b[1;33m.\u001b[0m\u001b[0mobjective\u001b[0m \u001b[1;33m=\u001b[0m \u001b[0mxgb_options\u001b[0m\u001b[1;33m[\u001b[0m\u001b[1;34m\"objective\"\u001b[0m\u001b[1;33m]\u001b[0m\u001b[1;33m\u001b[0m\u001b[0m\n",
      "\u001b[1;32md:\\Users\\tkhoon\\Anaconda3\\lib\\site-packages\\xgboost\\training.py\u001b[0m in \u001b[0;36mtrain\u001b[1;34m(params, dtrain, num_boost_round, evals, obj, feval, maximize, early_stopping_rounds, evals_result, verbose_eval, xgb_model, callbacks, learning_rates)\u001b[0m\n\u001b[0;32m    202\u001b[0m                            \u001b[0mevals\u001b[0m\u001b[1;33m=\u001b[0m\u001b[0mevals\u001b[0m\u001b[1;33m,\u001b[0m\u001b[1;33m\u001b[0m\u001b[0m\n\u001b[0;32m    203\u001b[0m                            \u001b[0mobj\u001b[0m\u001b[1;33m=\u001b[0m\u001b[0mobj\u001b[0m\u001b[1;33m,\u001b[0m \u001b[0mfeval\u001b[0m\u001b[1;33m=\u001b[0m\u001b[0mfeval\u001b[0m\u001b[1;33m,\u001b[0m\u001b[1;33m\u001b[0m\u001b[0m\n\u001b[1;32m--> 204\u001b[1;33m                            xgb_model=xgb_model, callbacks=callbacks)\n\u001b[0m\u001b[0;32m    205\u001b[0m \u001b[1;33m\u001b[0m\u001b[0m\n\u001b[0;32m    206\u001b[0m \u001b[1;33m\u001b[0m\u001b[0m\n",
      "\u001b[1;32md:\\Users\\tkhoon\\Anaconda3\\lib\\site-packages\\xgboost\\training.py\u001b[0m in \u001b[0;36m_train_internal\u001b[1;34m(params, dtrain, num_boost_round, evals, obj, feval, xgb_model, callbacks)\u001b[0m\n\u001b[0;32m     72\u001b[0m         \u001b[1;31m# Skip the first update if it is a recovery step.\u001b[0m\u001b[1;33m\u001b[0m\u001b[1;33m\u001b[0m\u001b[0m\n\u001b[0;32m     73\u001b[0m         \u001b[1;32mif\u001b[0m \u001b[0mversion\u001b[0m \u001b[1;33m%\u001b[0m \u001b[1;36m2\u001b[0m \u001b[1;33m==\u001b[0m \u001b[1;36m0\u001b[0m\u001b[1;33m:\u001b[0m\u001b[1;33m\u001b[0m\u001b[0m\n\u001b[1;32m---> 74\u001b[1;33m             \u001b[0mbst\u001b[0m\u001b[1;33m.\u001b[0m\u001b[0mupdate\u001b[0m\u001b[1;33m(\u001b[0m\u001b[0mdtrain\u001b[0m\u001b[1;33m,\u001b[0m \u001b[0mi\u001b[0m\u001b[1;33m,\u001b[0m \u001b[0mobj\u001b[0m\u001b[1;33m)\u001b[0m\u001b[1;33m\u001b[0m\u001b[0m\n\u001b[0m\u001b[0;32m     75\u001b[0m             \u001b[0mbst\u001b[0m\u001b[1;33m.\u001b[0m\u001b[0msave_rabit_checkpoint\u001b[0m\u001b[1;33m(\u001b[0m\u001b[1;33m)\u001b[0m\u001b[1;33m\u001b[0m\u001b[0m\n\u001b[0;32m     76\u001b[0m             \u001b[0mversion\u001b[0m \u001b[1;33m+=\u001b[0m \u001b[1;36m1\u001b[0m\u001b[1;33m\u001b[0m\u001b[0m\n",
      "\u001b[1;32md:\\Users\\tkhoon\\Anaconda3\\lib\\site-packages\\xgboost\\core.py\u001b[0m in \u001b[0;36mupdate\u001b[1;34m(self, dtrain, iteration, fobj)\u001b[0m\n\u001b[0;32m    892\u001b[0m         \u001b[1;32mif\u001b[0m \u001b[0mfobj\u001b[0m \u001b[1;32mis\u001b[0m \u001b[1;32mNone\u001b[0m\u001b[1;33m:\u001b[0m\u001b[1;33m\u001b[0m\u001b[0m\n\u001b[0;32m    893\u001b[0m             _check_call(_LIB.XGBoosterUpdateOneIter(self.handle, ctypes.c_int(iteration),\n\u001b[1;32m--> 894\u001b[1;33m                                                     dtrain.handle))\n\u001b[0m\u001b[0;32m    895\u001b[0m         \u001b[1;32melse\u001b[0m\u001b[1;33m:\u001b[0m\u001b[1;33m\u001b[0m\u001b[0m\n\u001b[0;32m    896\u001b[0m             \u001b[0mpred\u001b[0m \u001b[1;33m=\u001b[0m \u001b[0mself\u001b[0m\u001b[1;33m.\u001b[0m\u001b[0mpredict\u001b[0m\u001b[1;33m(\u001b[0m\u001b[0mdtrain\u001b[0m\u001b[1;33m)\u001b[0m\u001b[1;33m\u001b[0m\u001b[0m\n",
      "\u001b[1;31mKeyboardInterrupt\u001b[0m: "
     ]
    }
   ],
   "source": [
    "#用xgb跑一下\n",
    "from pylab import mpl\n",
    "from matplotlib import pyplot as plt\n",
    "mpl.rcParams['font.sans-serif'] = ['SimHei'] \n",
    "def plot_feature_importance(df,title):\n",
    "        \"\"\"\n",
    "    Plot importances returned by a model. This can work with any measure of\n",
    "    feature importance provided that higher importance is better. \n",
    "    \n",
    "    Args:\n",
    "        df (dataframe): feature importances. Must have the features in a column\n",
    "        called `features` and the importances in a column called `importance\n",
    "        \n",
    "    Returns:\n",
    "        shows a plot of the 15 most importance features\n",
    "        \n",
    "        df (dataframe): feature importances sorted by importance (highest to lowest) \n",
    "        with a column for normalized importance\n",
    "        \"\"\"\n",
    "        df = df.sort_values('importance',ascending = False,).reset_index()\n",
    "        df['importance_normalized'] = df['importance']/df['importance'].sum()\n",
    "        \n",
    "        plt.figure(figsize=(10,6))\n",
    "        ax = plt.subplot()\n",
    "        \n",
    "        #取前15个feature\n",
    "        ax.barh(list(reversed(list(df.index[:]))), df['importance_normalized'], align = 'center', edgecolor = 'k')\n",
    "        \n",
    "        ax.set_yticks(list(reversed(list(df.index[:]))))\n",
    "        ax.set_yticklabels(df['feature'])\n",
    "        \n",
    "        plt.xlabel('Normalized Importance')\n",
    "        plt.title(title)\n",
    "        \n",
    "        plt.show()\n",
    "        \n",
    "        return df\n",
    "import xgboost as xgb\n",
    "xgb =  xgb.XGBClassifier(base_score=0.5, booster='gbtree', colsample_bylevel=1,\n",
    "       colsample_bytree=0.8, gamma=0, learning_rate=0.1, max_delta_step=0,\n",
    "       max_depth=9, min_child_weight=5, missing=None, n_estimators=14,\n",
    "       n_jobs=1, nthread=4, objective='binary:logistic', random_state=0,\n",
    "       reg_alpha=0, reg_lambda=1, scale_pos_weight=1, seed=27, silent=0,\n",
    "       subsample=0.8)\n",
    "model = xgb.fit(train_X_data,train_Y_data,eval_metric='auc')\n",
    "feature_importance_values = model.feature_importances_\n",
    "features = list(train_X_data.columns)\n",
    "\n",
    "xgb_feature_importances = pd.DataFrame({'feature':features,'importance':feature_importance_values})\n",
    "\n",
    "plot_feature_importance(xgb_feature_importances,'xgb_feature_importances')\n",
    "from sklearn.metrics import classification_report\n",
    "xgb_predict_label = model.predict(test_X_data)\n",
    "print('xgb_predict') \n",
    "print(classification_report(vali_data,xgb_predict_label,digits=8))"
   ]
  },
  {
   "cell_type": "code",
   "execution_count": 174,
   "metadata": {},
   "outputs": [],
   "source": [
    "# vali_data\n",
    "# test_X_data"
   ]
  },
  {
   "cell_type": "code",
   "execution_count": 67,
   "metadata": {},
   "outputs": [
    {
     "name": "stdout",
     "output_type": "stream",
     "text": [
      "[1]\tvalid_0's l1: 0.372873\tvalid_0's myFeval: 0.711462\n",
      "[2]\tvalid_0's l1: 0.374037\tvalid_0's myFeval: 0.711462\n",
      "[3]\tvalid_0's l1: 0.375199\tvalid_0's myFeval: 0.711462\n",
      "[4]\tvalid_0's l1: 0.376363\tvalid_0's myFeval: 0.711462\n",
      "[5]\tvalid_0's l1: 0.377521\tvalid_0's myFeval: 0.711462\n",
      "[6]\tvalid_0's l1: 0.378676\tvalid_0's myFeval: 0.711482\n",
      "[7]\tvalid_0's l1: 0.37983\tvalid_0's myFeval: 0.711482\n",
      "[8]\tvalid_0's l1: 0.380979\tvalid_0's myFeval: 0.711143\n",
      "[9]\tvalid_0's l1: 0.382128\tvalid_0's myFeval: 0.711095\n",
      "[10]\tvalid_0's l1: 0.383277\tvalid_0's myFeval: 0.711131\n",
      "[11]\tvalid_0's l1: 0.384421\tvalid_0's myFeval: 0.711131\n",
      "[12]\tvalid_0's l1: 0.385566\tvalid_0's myFeval: 0.711131\n",
      "[13]\tvalid_0's l1: 0.386706\tvalid_0's myFeval: 0.711131\n",
      "[14]\tvalid_0's l1: 0.387847\tvalid_0's myFeval: 0.711151\n",
      "[15]\tvalid_0's l1: 0.388983\tvalid_0's myFeval: 0.711311\n",
      "[16]\tvalid_0's l1: 0.390106\tvalid_0's myFeval: 0.711331\n",
      "[17]\tvalid_0's l1: 0.391239\tvalid_0's myFeval: 0.711351\n",
      "[18]\tvalid_0's l1: 0.392384\tvalid_0's myFeval: 0.711286\n",
      "[19]\tvalid_0's l1: 0.393549\tvalid_0's myFeval: 0.71142\n",
      "[20]\tvalid_0's l1: 0.394713\tvalid_0's myFeval: 0.711381\n",
      "xgb_predict\n",
      "             precision    recall  f1-score   support\n",
      "\n",
      "          0  0.82182907 0.85617877 0.83865234     31414\n",
      "          1  0.73842057 0.68625235 0.71138132     18585\n",
      "\n",
      "avg / total  0.79082551 0.79301586 0.79134476     49999\n",
      "\n"
     ]
    }
   ],
   "source": [
    "from sklearn.metrics import f1_score\n",
    "import lightgbm as lgb\n",
    "params = {'metric': 'l1',\n",
    "          'boosting_type': 'gbdt',\n",
    "          'max_depth':8,\n",
    "          'num_leaves':300,\n",
    "          'num_threads':4,\n",
    "          'objective':'binary',\n",
    "          'bagging_fraction':0.5,\n",
    "          # 'bagging_freq':1,\n",
    "          'learning_rate' : 0.002,\n",
    "          'min_data_in_leaf' : 5,\n",
    "#           'min_data_per_group' : 1,\n",
    "          # 'weight' : ''\n",
    "          }\n",
    "\n",
    "def myFeval(   preds, train):\n",
    "#     aa = pd.Series(train.get_label()).map( lambda x: 1 if x >= 0.5 else 0 )\n",
    "#     print()\n",
    "    score = f1_score(train.get_label(),pd.Series(preds).map( lambda x: 1 if x >= 0.5 else 0 ))\n",
    "    return 'myFeval',score,False\n",
    "train_data = lgb.Dataset( train_X_data , train_Y_data ,free_raw_data=False ,  )\n",
    "test_data = lgb.Dataset( test_X_data , vali_data , reference= train_data )\n",
    "gbm = lgb.train(params,train_data,valid_sets=test_data,num_boost_round=20,feval = myFeval )\n",
    "\n",
    "from sklearn.metrics import classification_report\n",
    "xgb_predict_label = gbm.predict(test_X_data )\n",
    "xgb_predict_label = pd.Series( xgb_predict_label  ).map(lambda x : 1 if x>= 0.5 else 0)\n",
    "print('xgb_predict') \n",
    "print(classification_report(vali_data,xgb_predict_label,digits=8))"
   ]
  },
  {
   "cell_type": "code",
   "execution_count": 186,
   "metadata": {},
   "outputs": [
    {
     "data": {
      "text/plain": [
       "Index(['tag', 'title_count', 'tag_count', 'prefix_tag_count',\n",
       "       'prefix_title_count', 'prefix_title_tag_count', 'prefix_pred_0',\n",
       "       'prefix_pred_1', 'title_ctr', 'prefix_ctr', 'tag_ctr', 'prefix_tag_ctr',\n",
       "       'title_tag_ctr', 'prefix_title_ctr', 'smi_pre_ti', 'prefix_len',\n",
       "       'title_len', 'prediction_3_avg_point', 'pre_title_ctr_rank',\n",
       "       'avg_predict_title_dis', 'prefix_title_tag_ctr',\n",
       "       'smooth_pre_title_tag_ctr'],\n",
       "      dtype='object')"
      ]
     },
     "execution_count": 186,
     "metadata": {},
     "output_type": "execute_result"
    }
   ],
   "source": [
    "train_X_data.columns"
   ]
  },
  {
   "cell_type": "code",
   "execution_count": 23,
   "metadata": {},
   "outputs": [
    {
     "data": {
      "text/plain": [
       "<matplotlib.axes._subplots.AxesSubplot at 0x2728016a198>"
      ]
     },
     "execution_count": 23,
     "metadata": {},
     "output_type": "execute_result"
    },
    {
     "data": {
      "image/png": "[encoded data removed]",
      "text/plain": [
       "<Figure size 432x288 with 1 Axes>"
      ]
     },
     "metadata": {},
     "output_type": "display_data"
    }
   ],
   "source": [
    "# train_Y_data[0].values\n",
    "lgb.plot_importance(gbm, max_num_features=30)"
   ]
  }
 ],
 "metadata": {
  "kernelspec": {
   "display_name": "Python 3",
   "language": "python",
   "name": "python3"
  },
  "language_info": {
   "codemirror_mode": {
    "name": "ipython",
    "version": 3
   },
   "file_extension": ".py",
   "mimetype": "text/x-python",
   "name": "python",
   "nbconvert_exporter": "python",
   "pygments_lexer": "ipython3",
   "version": "3.6.5"
  }
 },
 "nbformat": 4,
 "nbformat_minor": 2
}
