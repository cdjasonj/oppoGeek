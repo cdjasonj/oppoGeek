{
 "cells": [
  {
   "cell_type": "code",
   "execution_count": null,
   "metadata": {},
   "outputs": [],
   "source": [
    "##构造libffm所需要的dataformat\n",
    "import pandas  as pd\n",
    "from tqdm import tqdm\n",
    "##怎么划分训练集和测试集\n",
    "##训练集的要求 1 尽量包含完所有搜索词  先随便来试一下哦，不要管那么多\n",
    "from sklearn.cross_validation import train_test_split\n",
    "train_data_old = pd.read_csv('E:/competionfile/oppo/data/data_split/train_data_old.csv',encoding='utf8').astype(str)\n",
    "test_data_old  = pd.read_csv('E:/competionfile/oppo/data/data_split/test_data_old.csv',encoding='utf8')\n",
    "train_data_old.columns = ['prefix','query_prediction','title','tag','label']\n",
    "test_data_old.columns = ['prefix','query_prediction','title','tag','label']\n",
    "train_data_old[ 'label' ] = train_data_old['label'].astype(int)\n",
    "train_data_old['realtitle'] = train_data_old['title']+train_data_old['tag']\n",
    "test_data_old['realtitle'] = test_data_old['title']+test_data_old['tag']\n",
    "\n",
    "train_data_old = train_data_old.reset_index()\n",
    "train_data_old = train_data_old.drop(['index'],axis=1)\n",
    "test_data_old = test_data_old.reset_index()\n",
    "test_data_old = test_data_old.drop(['index'],axis=1)\n",
    "\n",
    "\n",
    "train_data_new = pd.read_csv('E:/competionfile/oppo/data/data_split/train_data_new.csv',encoding='utf8').astype(str)\n",
    "test_data_new  = pd.read_csv('E:/competionfile/oppo/data/data_split/test_data_new.csv',encoding='utf8').astype(str)\n",
    "\n",
    "train_data_new[ 'label' ] = train_data_new['label'].astype(int)\n",
    "train_data_new['realtitle'] = train_data_new['title']+train_data_new['tag']\n",
    "test_data_new['realtitle'] = test_data_new['title']+test_data_new['tag']\n",
    "\n",
    "train_data_new = train_data_new.reset_index()\n",
    "train_data_new = train_data_new.drop(['index'],axis=1)\n",
    "test_data_new = test_data_new.reset_index()\n",
    "test_data_new = test_data_new.drop(['index'],axis=1)\n",
    "tt = pd.read_csv('E:/competionfile/oppo/data/data_split/train_data_new.csv',encoding='utf8').astype(str)\n",
    "train_data_new_label = tt.astype(str)['label'].astype(int)\n",
    "\n",
    "\n"
   ]
  },
  {
   "cell_type": "code",
   "execution_count": null,
   "metadata": {},
   "outputs": [],
   "source": [
    "TestAllSim_Stopesult = pd.read_csv('E:/competionfile/oppo/data/doc2vec/TestAllSim_Stopesult.csv')\n",
    "TrainAllSim_Stopesult = pd.read_csv('E:/competionfile/oppo/data/doc2vec/TrainAllSim_Stopesult.csv')\n",
    "VailAllSim_Stopesult = pd.read_csv('E:/competionfile/oppo/data/doc2vec/VailAllSim_Stopesult.csv')"
   ]
  },
  {
   "cell_type": "code",
   "execution_count": null,
   "metadata": {},
   "outputs": [],
   "source": [
    "TrainAllSim_Stopesult = TrainAllSim_Stopesult.append( TestAllSim_Stopesult , ignore_index=False )\n",
    "TrainAllSim_Stopesult = TrainAllSim_Stopesult.append( VailAllSim_Stopesult , ignore_index=False )\n",
    "from tqdm import tqdm\n",
    "pre_Tsim_map = {}\n",
    "query_Tsim_map = {}\n",
    "for  item in tqdm(TrainAllSim_Stopesult.itertuples()):\n",
    "    pre_Tsim_map[(item.prifix,item.title)] = item.pri_Tsim\n",
    "    query_Tsim_map[(item.query,item.title)] = item.quer_Tsim\n",
    "print(train_data_new.shape[0],train_data_old.shape[0])"
   ]
  },
  {
   "cell_type": "code",
   "execution_count": null,
   "metadata": {},
   "outputs": [],
   "source": [
    "def getxx( item ):\n",
    "#     try:\n",
    "#         return pre_Tsim_map[(item.prefix,item.title)]\n",
    "#     except:\n",
    "#         print(item)\n",
    "#     if item.prefix == 'nan':\n",
    "#         return 0\n",
    "#     else:\n",
    "        return pre_Tsim_map[(item.prefix,item.title)]\n",
    "\n",
    "train_data_new['pre_title_doc2vec_sim'] = train_data_new.apply( getxx  ,axis=1)\n",
    "test_data_new['pre_title_doc2vec_sim'] = test_data_new.apply( lambda x: pre_Tsim_map[(x.prefix,x.title)],axis=1 )"
   ]
  },
  {
   "cell_type": "code",
   "execution_count": null,
   "metadata": {},
   "outputs": [],
   "source": [
    "import json\n",
    "def get_query_prediction_no1(predictStr):\n",
    "\n",
    "    obj = json.loads(predictStr)\n",
    "    if len(obj) == 0:\n",
    "        return None\n",
    "    curlist = []\n",
    "    for  i in obj:\n",
    "        curlist.append( ( i , float(obj[i]) ) )\n",
    "    curlist.sort( key = lambda x : x[1] , reverse = True )\n",
    "    return curlist[0][0]\n",
    "train_data_new['query_prediction_no1'] = train_data_new.apply( lambda x: get_query_prediction_no1( x.query_prediction ) ,axis=1)\n",
    "test_data_new['query_prediction_no1'] = test_data_new.apply(  lambda x: get_query_prediction_no1( x.query_prediction ) ,axis=1 )\n",
    "\n",
    "train_data_new['query_title_doc2vec_sim'] = train_data_new.apply( lambda x: query_Tsim_map.get((x.query_prediction_no1,x.title),0) ,axis=1)\n",
    "test_data_new['query_title_doc2vec_sim'] = test_data_new.apply( lambda x: query_Tsim_map.get((x.query_prediction_no1,x.title),0) ,axis=1)\n",
    "\n",
    "print(train_data_new.shape[0],train_data_old.shape[0])"
   ]
  },
  {
   "cell_type": "code",
   "execution_count": null,
   "metadata": {},
   "outputs": [],
   "source": [
    "## 做一下几个特征，搜索词长度的点击率，搜索词长度，文章长度，搜索词减文章长度，title点击率，titletag点击率，编辑距离，语义相似度（预测词第一名和， query和title的相似度, tag点击率 ），搜索词是否在预测词中出现过 ，\n",
    "import difflib\n",
    "import Levenshtein\n",
    "\n",
    "def get_equal_rate_1(str1,str2):\n",
    "    return difflib.SequenceMatcher(None, str1, str2).quick_ratio()\n",
    "\n",
    "def latt( s1 , s2 ):\n",
    "    return Levenshtein.distance(s1,s2)\n",
    "\n",
    "train_data_old['title_len'] = train_data_old['title'].map( lambda x : len(x) )\n",
    "title_len_ctr_dict = train_data_old.groupby('title_len')['label'].mean()\n",
    "title_ctr_dict = train_data_old.groupby('title')['label'].mean()\n",
    "title_tag_ctr_dict = train_data_old.groupby(['title','tag'])['label'].mean()\n",
    "tag_ctr_dict = train_data_old.groupby('tag')['label'].mean()\n",
    "\n",
    "\n",
    "title_len_ctr_dict_idx = title_len_ctr_dict.index\n",
    "\n",
    "train_data_new['prefix_len'] = train_data_new['prefix'].map( lambda x : len(x) )\n",
    "train_data_new['title_len'] = train_data_new['title'].map( lambda x : len(x) )\n",
    "train_data_new['title_len_ctr'] = train_data_new['title_len'].map( lambda x : 0.37 if x not in title_len_ctr_dict_idx else title_len_ctr_dict[x]  )\n",
    "train_data_new['title_len_sub_prefix_len'] = train_data_new['title_len'] - train_data_new['prefix_len']\n",
    "train_data_new['title_ctr'] = train_data_new['title'].map( lambda x : 0.37 if x not in title_ctr_dict.index else title_ctr_dict[x] )\n",
    "# train_data_new['title_tag_ctr'] = train_data_new.apply( lambda x : 0.37 if (x['title'],x['tag']) not in title_tag_ctr_dict.index else title_tag_ctr_dict[(x['title'],['tag'])]  , axis=1 )\n",
    "train_data_new['prefix_title_difsim'] = train_data_new.apply( lambda x : get_equal_rate_1( x['prefix'] , x['title'] )  , axis=1 )\n",
    "train_data_new['prefix_title_latsim'] = train_data_new.apply( lambda x : latt( x['prefix'] , x['title'] )  , axis=1 )\n",
    "train_data_new['title_ocrin_prediction'] = train_data_new.apply( lambda x : 1 if x['title'] in x['query_prediction'] else 0    , axis=1 )\n",
    "\n",
    "train_data_new['tag_ctr'] = train_data_new['tag'].map( lambda x : tag_ctr_dict[x]  )\n",
    "\n",
    "print(train_data_new.shape[0],train_data_old.shape[0])"
   ]
  },
  {
   "cell_type": "code",
   "execution_count": null,
   "metadata": {},
   "outputs": [],
   "source": [
    "test_data_new['prefix_len'] = test_data_new['prefix'].map( lambda x : len(x) )\n",
    "test_data_new['title_len'] = test_data_new['title'].map( lambda x : len(x) )\n",
    "test_data_new['title_len_ctr'] = test_data_new['title_len'].map( lambda x : 0.37 if x not in title_len_ctr_dict_idx else title_len_ctr_dict[x]  )\n",
    "test_data_new['title_len_sub_prefix_len'] = test_data_new['title_len'] - train_data_new['prefix_len']\n",
    "test_data_new['title_ctr'] = test_data_new['title'].map( lambda x : 0.37 if x not in title_ctr_dict.index else title_ctr_dict[x] )\n",
    "# train_data_new['title_tag_ctr'] = train_data_new.apply( lambda x : 0.37 if (x['title'],x['tag']) not in title_tag_ctr_dict.index else title_tag_ctr_dict[(x['title'],['tag'])]  , axis=1 )\n",
    "test_data_new['prefix_title_difsim'] = test_data_new.apply( lambda x : get_equal_rate_1( x['prefix'] , x['title'] )  , axis=1 )\n",
    "test_data_new['prefix_title_latsim'] = test_data_new.apply( lambda x : latt( x['prefix'] , x['title'] )  , axis=1 )\n",
    "test_data_new['title_ocrin_prediction'] = test_data_new.apply( lambda x : 1 if x['title'] in x['query_prediction'] else 0    , axis=1 )\n",
    "\n",
    "test_data_new['tag_ctr'] = test_data_new['tag'].map( lambda x : tag_ctr_dict[x]  )\n",
    "\n"
   ]
  },
  {
   "cell_type": "code",
   "execution_count": null,
   "metadata": {},
   "outputs": [],
   "source": [
    "train_y_data = train_data_new['label']\n",
    "train_x_data = train_data_new.drop(['prefix','query_prediction','title','tag','label','query_prediction_no1','realtitle'] , axis = 1 )\n",
    "test_x_data = test_data_new.drop(['prefix','query_prediction','title','tag','label','query_prediction_no1','realtitle'] , axis = 1 )\n",
    "test_y_data = test_data_new['label'].astype(int)"
   ]
  },
  {
   "cell_type": "code",
   "execution_count": null,
   "metadata": {},
   "outputs": [],
   "source": [
    "base_dir = 'E:/competionfile/oppo/data/data_split/'\n",
    "train_x_data.to_csv('base_dir'+'train_data_new_x_data.csv',index=False)\n",
    "test_x_data.to_csv('base_dir'+'test_data_new_x_data.csv',index=False)\n",
    "test_y_data.to_csv('base_dir'+'test_data_new_y_data.csv',index=False)\n",
    "train_y_data.to_csv('base_dir'+'train_data_new_y_data.csv',index=False)\n"
   ]
  }
 ],
 "metadata": {
  "kernelspec": {
   "display_name": "Python 3",
   "language": "python",
   "name": "python3"
  },
  "language_info": {
   "codemirror_mode": {
    "name": "ipython",
    "version": 3
   },
   "file_extension": ".py",
   "mimetype": "text/x-python",
   "name": "python",
   "nbconvert_exporter": "python",
   "pygments_lexer": "ipython3",
   "version": "3.6.5"
  }
 },
 "nbformat": 4,
 "nbformat_minor": 2
}
