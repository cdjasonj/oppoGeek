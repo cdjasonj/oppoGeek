{
 "cells": [
  {
   "cell_type": "code",
   "execution_count": 5,
   "metadata": {
    "scrolled": true
   },
   "outputs": [],
   "source": [
    "#考虑做个flag特征，判断title是否在query_prediction里面，因为title是否出现在query_prediction里面对点击率有明显的影响\n",
    "#明天任务，考虑title与query_prediction中的距离（字符串长度差）----------------好好想想，脑壳有点炸    9/27\n",
    "\n",
    "import pandas as pd \n",
    "import warnings\n",
    "warnings.filterwarnings('ignore')\n",
    "train_data = pd.read_table('E:/competionfile/oppo/oppo_round1_train_20180926/oppo_round1_train_20180926.txt')\n",
    "# train_data.head(100)"
   ]
  },
  {
   "cell_type": "code",
   "execution_count": 6,
   "metadata": {},
   "outputs": [
    {
     "name": "stdout",
     "output_type": "stream",
     "text": [
      "<class 'pandas.core.frame.DataFrame'>\n",
      "RangeIndex: 1999999 entries, 0 to 1999998\n",
      "Data columns (total 5 columns):\n",
      "prefix              object\n",
      "query_prediction    object\n",
      "title               object\n",
      "tag                 object\n",
      "label               int64\n",
      "dtypes: int64(1), object(4)\n",
      "memory usage: 76.3+ MB\n"
     ]
    }
   ],
   "source": [
    "train_data.columns = ['prefix','query_prediction','title','tag','label']\n",
    "train_data.info()"
   ]
  },
  {
   "cell_type": "code",
   "execution_count": 3,
   "metadata": {},
   "outputs": [
    {
     "data": {
      "text/plain": [
       "Index(['百科', '应用', '网站', '知道', '健康', '经验', '菜谱', '音乐', '阅读', '影视', '汽车', '快应用',\n",
       "       '歌手', '游戏', '旅游', '景点', '商品', '网页', '火车', '酒店', '航班', '推广'],\n",
       "      dtype='object')"
      ]
     },
     "execution_count": 3,
     "metadata": {},
     "output_type": "execute_result"
    }
   ],
   "source": [
    "#查看文章内容标签 tag\n",
    "train_data['tag'].unique()\n",
    "train_data['tag'].value_counts().index\n",
    "    "
   ]
  },
  {
   "cell_type": "code",
   "execution_count": 4,
   "metadata": {},
   "outputs": [
    {
     "name": "stdout",
     "output_type": "stream",
     "text": [
      "总体样本点击率: 0.3747341873670937\n",
      "query_prediction不为空的点击率： 0.3744794933234017\n",
      "query_prediction为空的点击率: 0.26768763188253597\n"
     ]
    }
   ],
   "source": [
    "#查看样本的点击率情况\n",
    "print('总体样本点击率:',train_data['label'].mean())\n",
    "print('query_prediction不为空的点击率：',train_data[train_data['query_prediction'].notnull()]['label'].mean())\n",
    "print('query_prediction为空的点击率:',0.26768763188253597)"
   ]
  },
  {
   "cell_type": "code",
   "execution_count": 5,
   "metadata": {
    "scrolled": true
   },
   "outputs": [
    {
     "data": {
      "text/plain": [
       "tag\n",
       "火车     0.646447\n",
       "汽车     0.523542\n",
       "网站     0.501509\n",
       "经验     0.475743\n",
       "游戏     0.431479\n",
       "菜谱     0.413829\n",
       "百科     0.411762\n",
       "景点     0.392668\n",
       "影视     0.386617\n",
       "应用     0.346415\n",
       "健康     0.298414\n",
       "航班     0.277411\n",
       "音乐     0.255796\n",
       "阅读     0.250989\n",
       "快应用    0.244028\n",
       "知道     0.243414\n",
       "酒店     0.214932\n",
       "旅游     0.149773\n",
       "商品     0.147981\n",
       "网页     0.144444\n",
       "歌手     0.092597\n",
       "推广     0.000000\n",
       "Name: label, dtype: float64"
      ]
     },
     "execution_count": 5,
     "metadata": {},
     "output_type": "execute_result"
    }
   ],
   "source": [
    "#查看文章内容标签得点击率 tag \n",
    "train_data.groupby(['tag'])['label'].mean().sort_values(ascending = False)"
   ]
  },
  {
   "cell_type": "code",
   "execution_count": 6,
   "metadata": {},
   "outputs": [
    {
     "data": {
      "text/plain": [
       "<Figure size 640x480 with 1 Axes>"
      ]
     },
     "metadata": {},
     "output_type": "display_data"
    }
   ],
   "source": [
    "#可视化\n",
    "from matplotlib import pylab as plt \n",
    "from pylab import mpl\n",
    "mpl.rcParams['font.sans-serif'] = ['SimHei'] \n",
    "train_data.groupby(['tag'])['label'].mean().plot.bar(title = '文章类型点击率')\n",
    "plt.show()"
   ]
  },
  {
   "cell_type": "code",
   "execution_count": 7,
   "metadata": {},
   "outputs": [
    {
     "data": {
      "image/png": "[encoded data removed]",
      "text/plain": [
       "<Figure size 432x288 with 1 Axes>"
      ]
     },
     "metadata": {},
     "output_type": "display_data"
    }
   ],
   "source": [
    "#tag下的title数,\n",
    "from matplotlib import pylab as plt \n",
    "from pylab import mpl\n",
    "mpl.rcParams['font.sans-serif'] = ['SimHei'] \n",
    "train_data.groupby(['tag'])['title'].count().plot.bar(title='文章类型下的文章数')\n",
    "plt.show()"
   ]
  },
  {
   "cell_type": "code",
   "execution_count": 8,
   "metadata": {
    "scrolled": true
   },
   "outputs": [
    {
     "data": {
      "text/plain": [
       "title\n",
       "突尼斯                                                1.0\n",
       "流产后不能吃什么?                                          1.0\n",
       "土牛膝根能治疗幼儿腹泻吗                                       1.0\n",
       "中国工商银行app 手机号换了 想登陆的时候会把短信发到原来的手机号 但又注册不了新的 怎么办    1.0\n",
       "色盲测试图                                              1.0\n",
       "流产后吃什么对子宫好                                         1.0\n",
       "录井仪器原理                                             1.0\n",
       "流产后可以吃什么水果                                         1.0\n",
       "色系军团                                               1.0\n",
       "流产后饮食                                              1.0\n",
       "土牛七                                                1.0\n",
       "凯旋王国主题游乐园                                          1.0\n",
       "小爱音箱                                               1.0\n",
       "土炕                                                 1.0\n",
       "流产吃什么药                                             1.0\n",
       "中国嵩山少林寺                                            1.0\n",
       "流产后有什么注意事项                                         1.0\n",
       "色甘酸钠                                               1.0\n",
       "中国山东兰陵国家农业公园梦幻灯光节                                  1.0\n",
       "流产多久能同房                                            1.0\n",
       "色板                                                 1.0\n",
       "流产过后多久来月经呢？                                        1.0\n",
       "流产药物                                               1.0\n",
       "色欲之死                                               1.0\n",
       "凯文·加内特                                             1.0\n",
       "凯文纳什                                               1.0\n",
       "中国工商银行网银助手                                         1.0\n",
       "中国工商银行招聘考试指导教材                                     1.0\n",
       "色母片                                                1.0\n",
       "中国工商银行网上银行                                         1.0\n",
       "                                                  ... \n",
       "极品悍匪                                               0.0\n",
       "极品特工王妃                                             0.0\n",
       "极品心理专家                                             0.0\n",
       "极品弃少混都市                                            0.0\n",
       "极品弃少在校园                                            0.0\n",
       "极品异能服务生                                            0.0\n",
       "极品异能学生                                             0.0\n",
       "极品尤物                                               0.0\n",
       "极品小神棍                                              0.0\n",
       "极品毒妃免费阅读                                           0.0\n",
       "极品狂仙                                               0.0\n",
       "极品花都猎人                                             0.0\n",
       "极品绣花针                                              0.0\n",
       "极品芝麻官玩家中最厉害武将战力是多少                                 0.0\n",
       "极品色女                                               0.0\n",
       "极品色医                                               0.0\n",
       "极品老师大人                                             0.0\n",
       "极品美女的贴身兵王                                          0.0\n",
       "极品美女的贴身保镖                                          0.0\n",
       "极品美女上司                                             0.0\n",
       "极品纨绔                                               0.0\n",
       "极品狂医                                               0.0\n",
       "极品神医混都市                                            0.0\n",
       "极品盗窃MM                                             0.0\n",
       "极品盗墓贼                                              0.0\n",
       "极品男优                                               0.0\n",
       "极品玄师                                               0.0\n",
       "极品狂少                                               0.0\n",
       "极品狂医倾天下                                            0.0\n",
       " LOVA 2010款 1.6AT格调版                               0.0\n",
       "Name: label, Length: 257718, dtype: float64"
      ]
     },
     "execution_count": 8,
     "metadata": {},
     "output_type": "execute_result"
    }
   ],
   "source": [
    "#查看文章标题的点击率 title_ctr\n",
    "train_data.groupby(['title'])['label'].mean().sort_values(ascending = False)"
   ]
  },
  {
   "cell_type": "code",
   "execution_count": 8,
   "metadata": {
    "scrolled": true
   },
   "outputs": [
    {
     "data": {
      "text/plain": [
       "257718"
      ]
     },
     "execution_count": 8,
     "metadata": {},
     "output_type": "execute_result"
    }
   ],
   "source": [
    "#查看文章标题的点击次数 title_count\n",
    "#计算点击小于1的title个数  特征处理的时候可以归为其他类\n",
    "train_data.groupby(['title'])['label'].count()#未完成"
   ]
  },
  {
   "cell_type": "code",
   "execution_count": 10,
   "metadata": {},
   "outputs": [
    {
     "data": {
      "text/plain": [
       "161443"
      ]
     },
     "execution_count": 10,
     "metadata": {},
     "output_type": "execute_result"
    }
   ],
   "source": [
    "#查看query_prediction的情况\n",
    "train_data['query_prediction'].unique().shape[0]"
   ]
  },
  {
   "cell_type": "code",
   "execution_count": 11,
   "metadata": {
    "scrolled": true
   },
   "outputs": [
    {
     "data": {
      "text/plain": [
       "query_prediction\n",
       "{\"晚上敷面膜后要洗脸吗\": \"0.257\", \"晚上敷面膜\": \"0.033\", \"晚上敷面膜个性说说\": \"0.033\", \"晚上敷面膜要洗吗\": \"0.016\", \"晚上敷面膜最佳时间\": \"0.017\", \"晚上敷面膜的正确步骤\": \"0.035\", \"晚上敷面膜的最佳时间\": \"0.445\", \"晚上敷面膜好吗\": \"0.040\", \"晚上敷面膜后需要洗吗\": \"0.043\", \"晚上敷面膜的说说\": \"0.036\", \"晚上敷面膜说说\": \"0.012\"}     0.0\n",
       "{\"插花艺术作品欣赏图片\": \"0.099\", \"插花艺术图片\": \"0.015\", \"插花艺术的感悟\": \"0.035\", \"插花艺术\": \"0.757\", \"插花艺术的三个基本功\": \"0.057\", \"插花艺\": \"0.000\", \"插花艺术作品赏析\": \"0.015\", \"插花艺术教程\": \"0.011\", \"插花艺术的特点\": \"0.010\"}                                                               0.0\n",
       "{\"插进去\": \"0.423\", \"插进\": \"0.011\", \"插进去视频\": \"0.014\", \"插进来好湿好粗公公\": \"0.026\", \"插进去动态图\": \"0.019\", \"插进小姨子嫩穴\": \"0.023\", \"插进去综合网\": \"0.015\", \"插进来综合\": \"0.011\", \"插进去了\": \"0.025\", \"插进来\": \"0.063\", \"插进大姨子的阴穴\": \"0.028\"}                                        0.0\n",
       "{\"揠苗助长拼音\": \"0.032\", \"揠苗助长读音\": \"0.012\", \"揠苗助长的近义词\": \"0.016\", \"揠苗助长\": \"0.467\", \"揠苗助长的寓意\": \"0.033\", \"揠苗助长文言文\": \"0.018\", \"揠苗\": \"0.002\", \"揠苗助长的意思是什么\": \"0.013\", \"揠苗助长的故事\": \"0.040\", \"揠苗助长的意思\": \"0.201\", \"揠苗助长的道理\": \"0.017\"}                           0.0\n",
       "{\"握不住的他\": \"0.055\", \"握不住的沙不如扬了它\": \"0.091\", \"握不住的沙\": \"0.237\", \"握不住的沙干脆扬了它\": \"0.077\", \"握不住的沙放下也罢\": \"0.024\", \"握不\": \"0.000\", \"握不住的沙歌词\": \"0.025\", \"握不住的沙那就扬了它\": \"0.060\", \"握不住的沙图片\": \"0.236\", \"握不住的沙经典语录\": \"0.026\", \"握不住沙图片\": \"0.030\"}                  0.0\n",
       "{\"握不住的他\": \"0.056\", \"握不住的沙不如扬了它\": \"0.092\", \"握不住的沙\": \"0.241\", \"握不住的沙干脆扬了它\": \"0.079\", \"握不住的沙放下也罢\": \"0.025\", \"握不住沙图片\": \"0.031\", \"握不住\": \"0.012\", \"握不住的沙歌词\": \"0.026\", \"握不住的沙那就扬了它\": \"0.061\", \"握不住的沙图片\": \"0.240\", \"握不住的沙经典语录\": \"0.026\"}                 0.0\n",
       "{\"握紧的拳头简笔画\": \"0.020\", \"握紧你的右手\": \"0.060\", \"握紧拳头儿歌\": \"0.073\", \"握紧\": \"0.000\", \"握紧拳头舞蹈视频\": \"0.022\", \"握紧它%2c动一动\": \"0.022\", \"握紧拳头简谱\": \"0.020\", \"握紧玫瑰被刺伤的图片\": \"0.169\", \"握紧拳头\": \"0.088\", \"握紧对准坐下\": \"0.308\", \"握紧她的腰进入\": \"0.069\"}                          0.0\n",
       "{\"揪面片\": \"0.216\", \"揪面片的家常做法\": \"0.496\", \"揪面\": \"0.050\", \"揪面片的正确手法\": \"0.034\", \"揪面片的家常做法窍门\": \"0.036\", \"揪面片的做法\": \"0.100\", \"揪面片的面怎么和\": \"0.067\"}                                                                                                         0.0\n",
       "{\"援疆警察待遇怎么样\": \"0.024\", \"援疆工作\": \"0.038\", \"援疆教师\": \"0.047\", \"援疆干部待遇\": \"0.034\", \"援疆援藏报名条件2018\": \"0.110\", \"援疆警察\": \"0.058\", \"援疆\": \"0.147\", \"援疆教师待遇\": \"0.047\", \"援疆教师利弊\": \"0.036\", \"援疆干部\": \"0.044\", \"援疆政策\": \"0.022\"}                                     0.0\n",
       "{\"揽胜运动版5.0\": \"0.003\", \"揽胜运动版柴油\": \"0.004\", \"揽胜运动版新能源\": \"0.123\", \"揽胜运动版\": \"0.567\", \"揽胜运动版现价70万元\": \"0.004\", \"揽胜运动版最新报价\": \"0.003\", \"揽胜运动版2018款\": \"0.034\", \"揽胜运动版优惠\": \"0.003\", \"揽胜运动版报价\": \"0.004\", \"揽胜运动\": \"0.235\", \"揽胜运动插电混动\": \"0.003\"}              0.0\n",
       "{\"搅拌桩施工工艺\": \"0.239\", \"搅拌桩水泥用量怎么算\": \"0.090\", \"搅拌桩机\": \"0.235\", \"搅拌桩\": \"0.436\"}                                                                                                                                                                     0.0\n",
       "{\"搏击长空\": \"0.028\", \"搏击长空风暴特工队\": \"0.020\", \"搏击俱乐部\": \"0.191\", \"搏击操音乐\": \"0.021\", \"搏击健身操\": \"0.018\", \"搏击\": \"0.087\", \"搏击之王反击\": \"0.019\", \"搏击玫瑰\": \"0.015\", \"搏击操教学视频\": \"0.024\", \"搏击之王\": \"0.021\", \"搏击操\": \"0.074\"}                                            0.0\n",
       "{\"搓衣板\": \"0.328\", \"搓衣板针怎么织\": \"0.010\", \"搓衣板表情包\": \"0.113\", \"搓衣板图片\": \"0.393\", \"搓衣板身材\": \"0.015\", \"搓衣板什么意思\": \"0.012\", \"搓衣板是什么意思\": \"0.013\", \"搓衣板照片\": \"0.021\", \"搓衣板身材是什么意思\": \"0.014\", \"搓衣板怎么用\": \"0.023\", \"搓衣板图片 表情包\": \"0.031\"}                           0.0\n",
       "{\"搜企\": \"0.082\", \"搜企超级v名片\": \"0.164\", \"搜企网公众号\": \"0.056\", \"搜企业的软件\": \"0.036\", \"搜企名片\": \"0.045\", \"搜企网\": \"0.616\"}                                                                                                                                       0.0\n",
       "{\"插科打诨现代意思\": \"0.018\", \"插科打诨读音\": \"0.041\", \"插科打诨打一生肖\": \"0.005\", \"插科\": \"0.004\", \"插科打诨比喻什么\": \"0.005\", \"插科打诨\": \"0.595\", \"插科打诨的读音\": \"0.019\", \"插科打诨的意思\": \"0.023\", \"插科打诨什么意思\": \"0.031\", \"插科打浑\": \"0.005\", \"插科打诨是什么意思\": \"0.238\"}                           0.0\n",
       "{\"搜搜小说\": \"0.785\", \"搜搜小说无敌剑域\": \"0.015\", \"搜搜小说免费阅读\": \"0.040\", \"搜搜小说最强透视\": \"0.008\", \"搜搜小说,逆天邪神\": \"0.022\", \"搜搜小说武炼巅峰\": \"0.025\", \"搜搜小说网免费阅读\": \"0.014\", \"搜搜小说书架免费阅读\": \"0.038\", \"搜搜小说网\": \"0.020\", \"搜搜小说极品透视\": \"0.009\", \"搜搜小说手机版\": \"0.010\"}              0.0\n",
       "{\"搜救犬品种排名\": \"0.064\", \"搜救犬图片\": \"0.084\", \"搜救犬\": \"0.430\", \"搜救犬品种\": \"0.296\", \"搜救犬阿虎\": \"0.100\", \"搜救犬阿虎2\": \"0.027\"}                                                                                                                                    0.0\n",
       "{\"搜狐焦点房产\": \"0.014\", \"搜狐焦点保定\": \"0.018\", \"搜狐焦点长沙\": \"0.021\", \"搜狐焦点\": \"0.357\", \"搜狐焦点网首页\": \"0.024\", \"搜狐焦点石家庄\": \"0.037\", \"搜狐焦点房地产网\": \"0.267\", \"搜狐焦点房产网\": \"0.015\", \"搜狐焦点东莞\": \"0.019\", \"搜狐焦点网\": \"0.230\"}                                                 0.0\n",
       "{\"搜狗壁纸为什么停运\": \"0.048\", \"搜狗壁纸图片大全\": \"0.022\", \"搜狗壁纸下载\": \"0.083\", \"搜狗壁纸官网\": \"0.018\", \"搜狗壁纸电脑版\": \"0.009\", \"搜狗壁纸电脑版用不了\": \"0.045\", \"搜狗壁纸\": \"0.684\", \"搜狗壁纸连不上网\": \"0.009\", \"搜狗壁纸手机版\": \"0.023\", \"搜狗壁纸停止运营\": \"0.059\"}                                      0.0\n",
       "{\"搜狗搜索加强版\": \"0.028\", \"搜狗搜索旧版本下载\": \"0.005\", \"搜狗搜索\": \"0.764\", \"搜狗搜\": \"0.001\", \"搜狗搜索微信文章\": \"0.005\", \"搜狗搜图\": \"0.017\", \"搜狗搜索引擎首页\": \"0.007\", \"搜狗搜索旧版本\": \"0.041\", \"搜狗搜索主页\": \"0.007\", \"搜狗搜索下载\": \"0.007\", \"搜狗搜索引擎\": \"0.017\"}                              0.0\n",
       "{\"搞对象每天都聊什么\": \"0.217\", \"搞对象软件\": \"0.078\", \"搞对象是什么意思\": \"0.026\", \"搞对象被家长知道了\": \"0.025\", \"搞对象图片\": \"0.066\", \"搞对象发的说说\": \"0.084\", \"搞对象的说说\": \"0.047\", \"搞对象的软件\": \"0.029\", \"搞对象\": \"0.171\", \"搞对象表情包\": \"0.021\", \"搞对象的技巧\": \"0.189\"}                            0.0\n",
       "{\"搞笑小说\": \"0.644\", \"搞笑小说推荐\": \"0.023\", \"搞笑小说排行榜完结版\": \"0.003\", \"搞笑小说排行榜前10名\": \"0.107\", \"搞笑小说言情\": \"0.012\", \"搞笑小说排行\": \"0.004\", \"搞笑小说排行榜\": \"0.068\", \"搞笑小说大全 爆笑\": \"0.098\", \"搞笑小说大全爆笑\": \"0.018\", \"搞笑小说推荐完本\": \"0.006\", \"搞笑小说完结\": \"0.004\"}                 0.0\n",
       "{\"搞笑幽默寻人启事句子\": \"0.057\", \"搞笑幽默笑话\": \"0.045\", \"搞笑幽默图片\": \"0.035\", \"搞笑幽默说说\": \"0.080\", \"搞笑幽默辞职图片\": \"0.033\", \"搞笑幽默段子\": \"0.131\", \"搞笑幽默古怪网名\": \"0.155\", \"搞笑幽默\": \"0.017\", \"搞笑幽默的句子\": \"0.199\", \"搞笑幽默小说\": \"0.035\", \"搞笑幽默的说说\": \"0.025\"}                        0.0\n",
       "{\"搞笑漫画。\": \"0.014\", \"搞笑漫画朱莉泡\": \"0.044\", \"搞笑漫\": \"0.000\", \"搞笑漫画大全\": \"0.046\", \"搞笑漫画\": \"0.622\", \"搞笑漫画图片\": \"0.049\", \"搞笑漫画老杜\": \"0.026\", \"搞笑漫画大全阿衰全集\": \"0.010\", \"搞笑漫画小和尚\": \"0.013\", \"搞笑漫画头像\": \"0.009\", \"搞笑漫画日和\": \"0.037\"}                                0.0\n",
       "{\"搞笑电影推荐\": \"0.043\", \"搞笑电影有哪些\": \"0.005\", \"搞笑电影推荐国内\": \"0.004\", \"搞笑电影大全中国\": \"0.009\", \"搞笑电影\": \"0.555\", \"搞笑电影排行\": \"0.022\", \"搞笑电影大全\": \"0.223\", \"搞笑电影排行2018\": \"0.009\", \"搞笑电影排行榜前十名\": \"0.069\", \"搞笑电影大全免费\": \"0.007\", \"搞笑电影排行榜\": \"0.005\"}                  0.0\n",
       "{\"搞笑证件在线制作大全\": \"0.019\", \"搞笑证件制作\": \"0.484\", \"搞笑证件在线制作\": \"0.231\", \"搞笑证件制作软件下载\": \"0.021\", \"搞笑证件生成器\": \"0.027\", \"搞笑证件制作生成器\": \"0.032\", \"搞笑证件图片大全\": \"0.018\", \"搞笑证件\": \"0.098\", \"搞笑证件图片\": \"0.053\", \"搞笑证件制作大全\": \"0.017\"}                                   0.0\n",
       "{\"搦战的意思\": \"0.032\", \"搦\": \"0.000\", \"搦管操觚\": \"0.020\", \"搦怎么读\": \"0.611\", \"搦怎么读音\": \"0.031\", \"搦战\": \"0.174\", \"搦怎么读音是什么意思\": \"0.009\", \"搦战怎么读\": \"0.019\", \"搦的读音\": \"0.036\", \"搦管\": \"0.040\", \"搦宠一品小甜妻\": \"0.027\"}                                                 0.0\n",
       "{\"搪塞鱼\": \"0.017\", \"搪塞检查是哪几项\": \"0.015\", \"搪塞读音\": \"0.033\", \"搪塞检查\": \"0.085\", \"搪塞是什么意思\": \"0.364\", \"搪塞的读音\": \"0.016\", \"搪塞检查多少钱\": \"0.016\", \"搪塞的近义词\": \"0.077\", \"搪塞的意思\": \"0.016\", \"搪塞检查什么时候做\": \"0.010\", \"搪塞\": \"0.265\"}                                      0.0\n",
       "{\"搬家有哪些讲究\": \"0.012\", \"搬家有那些讲究\": \"0.010\", \"搬家有哪些讲究和禁忌\": \"0.053\", \"搬家有啥讲究\": \"0.021\", \"搬家有什么讲究和忌讳\": \"0.483\", \"搬家有什么说法\": \"0.013\", \"搬家有什么讲究吗\": \"0.078\", \"搬家有\": \"0.000\", \"搬家有什么讲究\": \"0.241\", \"搬家有啥讲究吗\": \"0.022\", \"搬家有什么规矩\": \"0.010\"}                   0.0\n",
       "{\"搜救犬品种排名\": \"0.058\", \"搜救犬品种\": \"0.268\", \"搜救犬图片\": \"0.076\", \"搜救犬\": \"0.389\", \"搜救雷达应答器\": \"0.030\", \"搜救\": \"0.030\", \"搜救犬阿虎\": \"0.091\", \"搜救队\": \"0.034\", \"搜救犬阿虎2\": \"0.024\"}                                                                                 0.0\n",
       "                                                                                                                                                                                                                                                ... \n",
       "{\"虹化现象的视频\": \"0.067\", \"虹化图片\": \"0.065\", \"虹化现象的科学解释\": \"0.133\", \"虹化现象\": \"0.199\", \"虹化_百度百科\": \"0.033\", \"虹化\": \"0.503\"}                                                                                                                                  1.0\n",
       "{\"虱子怎么去\": \"0.005\", \"虱子怎么去除最快方法\": \"0.108\", \"虱子怎么去掉\": \"0.554\", \"虱子怎么去除\": \"0.334\"}                                                                                                                                                                  1.0\n",
       "{\"虫蛀牙牙疼怎么办\": \"0.586\", \"虫蛀牙图片\": \"0.152\", \"虫蛀牙怎么治疗\": \"0.165\", \"虫蛀\": \"0.098\"}                                                                                                                                                                       1.0\n",
       "{\"虫虫助手官网\": \"0.006\", \"虫虫助手破解游戏\": \"0.004\", \"虫虫助手\": \"0.760\", \"虫虫助手破解游戏下载\": \"0.001\", \"虫虫助手。\": \"0.031\", \"虫虫助手破解游戏大全\": \"0.020\", \"虫虫助手破解版\": \"0.002\", \"虫虫助手下载安装\": \"0.006\", \"虫虫助手官网下载\": \"0.002\", \"虫虫助手下载\": \"0.159\", \"虫虫助\": \"0.001\"}                       1.0\n",
       "{\"大姨妈8天没来\": \"0.538\", \"大姨妈8天没\": \"0.000\", \"大姨妈8天没来 白板\": \"0.462\"}                                                                                                                                                                                   1.0\n",
       "{\"虫草花排骨汤的功效\": \"0.068\", \"虫草花排骨汤的做法\": \"0.172\", \"虫草花排骨汤\": \"0.760\"}                                                                                                                                                                                  1.0\n",
       "{\"海之恋简谱\": \"0.035\", \"海之恋\": \"0.193\", \"海之恋广场万人水乐园\": \"0.065\", \"海之恋水上乐园门票\": \"0.030\", \"海之恋广场\": \"0.112\", \"海之恋水上乐园\": \"0.287\", \"海之恋广场门票\": \"0.017\", \"海之恋钢琴谱\": \"0.013\", \"海之恋钢琴曲\": \"0.038\", \"海之恋水上乐园地址\": \"0.013\", \"海之恋门票\": \"0.047\"}                          1.0\n",
       "{\"虫草素\": \"0.545\", \"虫草素的作用与功效\": \"0.455\"}                                                                                                                                                                                                           1.0\n",
       "{\"一不小心爱上你演员表\": \"0.016\", \"一不小心爱上你小说\": \"0.017\", \"一不小心爱上你电视剧\": \"0.162\", \"一不小心爱上你\": \"0.602\", \"一不小心爱上你结局\": \"0.004\", \"一不小心爱上总裁\": \"0.062\", \"一不小心爱上你2\": \"0.055\", \"一不小心爱\": \"0.000\", \"一不小心爱上你歌曲\": \"0.017\", \"一不小心爱上你歌词\": \"0.006\", \"一不小心爱上总裁免费\": \"0.004\"}    1.0\n",
       "{\"虫草泡水喝有什么功效\": \"0.144\", \"虫草泡水喝的方法\": \"0.055\", \"虫草泡水\": \"0.033\", \"虫草泡水的方法\": \"0.025\", \"虫草泡酒一斤酒放几根\": \"0.053\", \"虫草泡面图片\": \"0.026\", \"虫草泡酒\": \"0.096\", \"虫草泡水一次几根\": \"0.256\", \"虫草泡酒有什么功效\": \"0.155\", \"虫草泡酒方法\": \"0.049\", \"虫草泡\": \"0.000\"}                       1.0\n",
       "{\"虫草参图片\": \"0.140\", \"虫草参多少钱一斤\": \"0.073\", \"虫草参的功效与主治\": \"0.246\", \"虫草参的煲汤做法大全\": \"0.019\", \"虫草参芪膏\": \"0.019\", \"虫草参有什么功效\": \"0.019\", \"虫草参不适合什么人吃\": \"0.041\", \"虫草参茸丸\": \"0.026\", \"虫草参茸宝\": \"0.022\", \"虫草参\": \"0.306\", \"虫草参的功效与作用\": \"0.021\"}                     1.0\n",
       "{\"大姨妈不停了怎么办\": \"0.257\", \"大姨妈不停\": \"0.129\", \"大姨妈不停怎么办\": \"0.263\", \"大姨妈不停怎么止血\": \"0.129\", \"大姨妈不停怎么回事啊\": \"0.222\"}                                                                                                                                       1.0\n",
       "{\"虫牙疼的厉害怎么办\": \"1.000\", \"虫牙疼的\": \"0.000\"}                                                                                                                                                                                                          1.0\n",
       "{\"大姨妈六天了没干净\": \"0.270\", \"大姨妈六天后能同房吗\": \"0.284\", \"大姨妈六天没来\": \"0.446\", \"大姨妈六天\": \"0.000\"}                                                                                                                                                              1.0\n",
       "{\"海事大学继续教育学院\": \"1.000\", \"海事大学继续\": \"0.000\"}                                                                                                                                                                                                       1.0\n",
       "{\"大姨妈可以吃香\": \"0.000\", \"大姨妈可以吃香蕉\": \"0.083\", \"大姨妈可以吃香菇吗\": \"0.054\", \"大姨妈可以吃香蕉吗\": \"0.648\", \"大姨妈可以吃香蕉不\": \"0.061\", \"大姨妈可以吃香蕉么\": \"0.098\", \"大姨妈可以吃香瓜吗\": \"0.056\"}                                                                                          1.0\n",
       "{\"全民游戏大全 游戏\": \"0.148\", \"全民游戏助手下载\": \"0.046\", \"全民游戏\": \"0.278\", \"全民游戏平台\": \"0.040\", \"全民游戏官网\": \"0.064\", \"全民游戏盒\": \"0.066\", \"全民游戏盒子\": \"0.075\", \"全民游戏助手\": \"0.241\", \"全民游戏助手官网\": \"0.042\"}                                                                  1.0\n",
       "{\"海伦凯勒的故事\": \"0.085\", \"海伦凯勒眼镜\": \"0.046\", \"海伦凯勒的老师\": \"0.016\", \"海伦凯勒的作品\": \"0.011\", \"海伦凯勒的名言\": \"0.039\", \"海伦凯勒简介\": \"0.122\", \"海伦凯勒眼镜什么档次\": \"0.008\", \"海伦凯\": \"0.001\", \"海伦凯勒\": \"0.460\", \"海伦凯勒的励志故事\": \"0.007\", \"海伦凯勒太阳镜\": \"0.008\"}                         1.0\n",
       "{\"虫咬性荨麻疹\": \"0.008\", \"虫咬性皮炎图\": \"0.005\", \"虫咬性\": \"0.000\", \"虫咬性皮炎用什么药\": \"0.009\", \"虫咬性皮炎怎么治疗\": \"0.007\", \"虫咬性皮炎的治疗方法\": \"0.005\", \"虫咬性皮炎多久能好\": \"0.004\", \"虫咬性皮炎会自己好吗\": \"0.004\", \"虫咬性皮炎可以自愈吗\": \"0.004\", \"虫咬性皮炎\": \"0.890\", \"虫咬性皮炎图片\": \"0.040\"}              1.0\n",
       "{\"虫二\": \"0.248\", \"虫二我和我的总裁先生\": \"0.025\", \"虫二小说作品集\": \"0.025\", \"虫二打一成语疯狂看图\": \"0.049\", \"虫二打一成语成语\": \"0.024\", \"虫二女装官方旗舰店\": \"0.032\", \"虫二的小说\": \"0.019\", \"虫二打一成语是什么\": \"0.113\", \"虫二女装\": \"0.090\", \"虫二是什么意思\": \"0.179\", \"虫二打一成语\": \"0.025\"}                     1.0\n",
       "{\"虢国夫人游春图\": \"0.693\", \"虢国夫人游\": \"0.000\", \"虢国夫人游春图作者\": \"0.028\", \"虢国夫人游春图赏析\": \"0.249\", \"虢国夫人游春图高清\": \"0.031\"}                                                                                                                                         1.0\n",
       "{\"一世兵王最新章节\": \"0.011\", \"一世兵\": \"0.000\", \"一世兵王txt下载\": \"0.004\", \"一世兵王我本疯狂\": \"0.012\", \"一世兵王 有更新\": \"0.003\", \"一世兵王 我本疯狂\": \"0.004\", \"一世兵王\": \"0.810\", \"一世兵王 小说\": \"0.033\", \"一世兵王秦风全本免费\": \"0.007\", \"一世兵王秦风全本\": \"0.022\", \"一世兵王秦风\": \"0.065\"}                  1.0\n",
       "{\"张若昀图片\": \"0.013\", \"张若昀张天爱\": \"0.006\", \"张若昀的电视剧\": \"0.015\", \"张若昀的父亲母亲是谁\": \"0.005\", \"张若昀唐艺昕怎么认识\": \"0.006\", \"张若昀和唐艺昕\": \"0.046\", \"张若昀电视剧\": \"0.016\", \"张若昀\": \"0.652\", \"张若昀唐艺昕分手原因\": \"0.005\", \"张若昀唐艺昕\": \"0.032\", \"张若昀微博\": \"0.025\"}                       1.0\n",
       "{\"虞永平\": \"0.662\", \"虞永平课程游戏化\": \"0.338\"}                                                                                                                                                                                                            1.0\n",
       "{\"二胎这件大事免费阅读\": \"0.671\", \"二胎这\": \"0.000\", \"二胎这件大事\": \"0.216\", \"二胎这件大事 小说\": \"0.113\"}                                                                                                                                                                 1.0\n",
       "{\"虞世南·蝉\": \"0.028\", \"虞世南蝉\": \"0.033\", \"虞世南楷书\": \"0.025\", \"虞世南咏风\": \"0.043\", \"虞世南书法\": \"0.084\", \"虞世南孔子庙堂碑\": \"0.024\", \"虞世南\": \"0.413\", \"虞世南简介\": \"0.012\", \"虞世南的蝉朗诵\": \"0.017\", \"虞世南的诗\": \"0.025\"}                                                           1.0\n",
       "{\"虚胖怎么治\": \"0.016\", \"虚胖怎么减肥\": \"0.238\", \"虚胖怎么调理会瘦\": \"0.106\", \"虚胖怎么办\": \"0.191\", \"虚胖怎么减肥最快\": \"0.040\", \"虚胖怎么减\": \"0.125\", \"虚胖怎么减肥才有效果\": \"0.010\", \"虚胖怎么调理\": \"0.261\", \"虚胖怎么\": \"0.000\", \"虚胖怎么调理和减肥\": \"0.013\"}                                             1.0\n",
       "{\"大姨妈来了一点点没了\": \"0.642\", \"大姨妈来了一点点黑色\": \"0.242\", \"大姨妈来了一点点\": \"0.116\"}                                                                                                                                                                              1.0\n",
       "{\"全球富豪榜第一名\": \"0.015\", \"全球富豪榜2018排行榜\": \"0.213\", \"全球富豪排行榜\": \"0.049\", \"全球富豪榜2017排行榜\": \"0.024\", \"全球富豪榜2018\": \"0.029\", \"全球富豪榜\": \"0.595\", \"全球富\": \"0.000\", \"全球富豪榜排名\": \"0.013\", \"全球富豪最多的星座\": \"0.009\", \"全球富豪排行榜2018\": \"0.010\", \"全球富人排行榜2018\": \"0.010\"}    1.0\n",
       "{\"拇指关节肿痛\": \"0.166\", \"拇指关节肿大\": \"0.056\", \"拇指关节痛是怎么回事\": \"0.321\", \"拇指关节疼痛的原因\": \"0.043\", \"拇指关节腱鞘炎\": \"0.086\", \"拇指关节疼\": \"0.179\", \"拇指关节\": \"0.000\", \"拇指关节痛\": \"0.149\"}                                                                                     1.0\n",
       "Name: label, Length: 161442, dtype: float64"
      ]
     },
     "execution_count": 11,
     "metadata": {},
     "output_type": "execute_result"
    }
   ],
   "source": [
    "#查看query_prediction的点击率\n",
    "train_data.groupby(['query_prediction'])['label'].mean().sort_values()"
   ]
  },
  {
   "cell_type": "code",
   "execution_count": 12,
   "metadata": {
    "scrolled": true
   },
   "outputs": [
    {
     "data": {
      "text/plain": [
       "tag  prefix    \n",
       "健康   \b\b\b。          0.000000\n",
       "     \b 躯体          1.000000\n",
       "     \b%2C          1.000000\n",
       "     \b%2C心         1.000000\n",
       "     \b‘            0.500000\n",
       "     \b。            1.000000\n",
       "     \b球蛋白          0.000000\n",
       "     !是什么意思        0.625000\n",
       "     %2C\b          0.000000\n",
       "     %2C气          0.000000\n",
       "     &             0.142857\n",
       "     ******        1.000000\n",
       "     -             0.777778\n",
       "     -             1.000000\n",
       "     .             0.308642\n",
       "     ...b          0.000000\n",
       "     .net          0.500000\n",
       "     .什么意思         1.000000\n",
       "     .前            1.000000\n",
       "     /、            0.000000\n",
       "     00000000      0.000000\n",
       "     0123456789    0.000000\n",
       "     0612          1.000000\n",
       "     09什么意思        0.500000\n",
       "     0:            0.000000\n",
       "     0:00-24:00    1.000000\n",
       "     0型            1.000000\n",
       "     0形            1.000000\n",
       "     100           0.046512\n",
       "     1000g         0.666667\n",
       "                     ...   \n",
       "音乐   龙时代           0.000000\n",
       "     龙楼            0.000000\n",
       "     龙王传           0.500000\n",
       "     龙珠传           0.000000\n",
       "     龙生            0.045455\n",
       "     龙生九           0.000000\n",
       "     龙的            0.833333\n",
       "     龙的传           1.000000\n",
       "     龙的传人          0.800000\n",
       "     龙眼树           0.000000\n",
       "     龙种            0.000000\n",
       "     龙舌            0.000000\n",
       "     龙船            0.000000\n",
       "     龙虎山           0.100000\n",
       "     龙虎斗           1.000000\n",
       "     龙虾刑警          0.000000\n",
       "     龙蛇            0.000000\n",
       "     龙血战           0.000000\n",
       "     龙门飞甲          0.166667\n",
       "     龙院            0.000000\n",
       "     龟兹            0.000000\n",
       "     안녕하세요         1.000000\n",
       "     청춘            0.000000\n",
       "     ！！！！          0.500000\n",
       "     ！！！！！！！！      0.000000\n",
       "     ！？            0.285714\n",
       "     ，一            0.000000\n",
       "     ？！            0.400000\n",
       "     ？？            1.000000\n",
       "     ？？？           0.500000\n",
       "Name: label, Length: 273890, dtype: float64"
      ]
     },
     "execution_count": 12,
     "metadata": {},
     "output_type": "execute_result"
    }
   ],
   "source": [
    "#查看 tag在prefix下的点击率\n",
    "train_data.groupby(['tag','prefix'])['label'].mean()"
   ]
  },
  {
   "cell_type": "code",
   "execution_count": 13,
   "metadata": {
    "scrolled": true
   },
   "outputs": [
    {
     "name": "stdout",
     "output_type": "stream",
     "text": [
      "文章类型：百科 总数 734126 被点击数 302285  被点击率0.41176174117249625 此类型下文章总数131675\n",
      "文章类型：应用 总数 344699 被点击数 119409  被点击率0.34641527825726215 此类型下文章总数4915\n",
      "文章类型：网站 总数 162320 被点击数 81405  被点击率0.501509364218827 此类型下文章总数1488\n",
      "文章类型：知道 总数 125609 被点击数 30575  被点击率0.24341408657022984 此类型下文章总数19633\n",
      "文章类型：健康 总数 124954 被点击数 37288  被点击率0.2984138162843927 此类型下文章总数41552\n",
      "文章类型：经验 总数 111083 被点击数 52847  被点击率0.4757433630708569 此类型下文章总数4340\n",
      "文章类型：菜谱 总数 82597 被点击数 34181  被点击率0.4138285894160805 此类型下文章总数11667\n",
      "文章类型：音乐 总数 79747 被点击数 20399  被点击率0.2557964562930267 此类型下文章总数18456\n",
      "文章类型：阅读 总数 77868 被点击数 19544  被点击率0.2509888529306005 此类型下文章总数18318\n",
      "文章类型：影视 总数 42533 被点击数 16444  被点击率0.3866174499800155 此类型下文章总数6184\n",
      "文章类型：汽车 总数 25274 被点击数 13232  被点击率0.5235419799002928 此类型下文章总数2171\n",
      "文章类型：快应用 总数 24198 被点击数 5905  被点击率0.2440284321018266 此类型下文章总数143\n",
      "文章类型：歌手 总数 16426 被点击数 1521  被点击率0.09259710215511993 此类型下文章总数1711\n",
      "文章类型：游戏 总数 16068 被点击数 6933  被点击率0.431478715459298 此类型下文章总数698\n",
      "文章类型：旅游 总数 16051 被点击数 2404  被点击率0.14977259983801633 此类型下文章总数4502\n",
      "文章类型：景点 总数 7910 被点击数 3106  被点击率0.3926675094816688 此类型下文章总数1833\n",
      "文章类型：商品 总数 4210 被点击数 623  被点击率0.1479809976247031 此类型下文章总数1341\n",
      "文章类型：网页 总数 1530 被点击数 221  被点击率0.14444444444444443 此类型下文章总数1050\n",
      "文章类型：火车 总数 1154 被点击数 746  被点击率0.6464471403812825 此类型下文章总数774\n",
      "文章类型：酒店 总数 884 被点击数 190  被点击率0.2149321266968326 此类型下文章总数589\n",
      "文章类型：航班 总数 757 被点击数 210  被点击率0.2774108322324967 此类型下文章总数525\n",
      "文章类型：推广 总数 1 被点击数 0  被点击率0 此类型下文章总数1\n"
     ]
    }
   ],
   "source": [
    "#统计每种类型被点击的概率\n",
    "##统计每种类型被点击的概率\n",
    "# for item , kk in data[3].value_counts():\n",
    "#     print(item,kk)\n",
    "#     break\n",
    "# type( data[3].value_counts() )\n",
    "# data[3].value_counts().index\n",
    "tdata = train_data[train_data['label']==1]['tag'].value_counts()\n",
    "vdata  = train_data['tag'].value_counts()\n",
    "for idx in vdata.index:\n",
    "    wzzs = train_data[ train_data['tag'] == idx]['title'].value_counts().shape\n",
    "    if idx in tdata.index:\n",
    "        dpercent = tdata.loc[ idx ]/vdata.loc[idx]\n",
    "        total = vdata.loc[idx]\n",
    "        dtotal =  tdata.loc[idx]\n",
    "    else:\n",
    "        dpercent = 0\n",
    "        total = vdata.loc[idx]\n",
    "        dtotal = 0\n",
    "    print( '文章类型：{} 总数 {} 被点击数 {}  被点击率{} 此类型下文章总数{}'.format( idx , total , dtotal , dpercent,wzzs[0] ) )"
   ]
  },
  {
   "cell_type": "code",
   "execution_count": 14,
   "metadata": {
    "scrolled": true
   },
   "outputs": [
    {
     "data": {
      "text/plain": [
       "0          做完胆管支架的手术白血球高!还不发烧!是什么意思,健康\n",
       "1          做完胆管支架的手术白血球高!还不发烧!是什么意思,健康\n",
       "2           山有顶%2C海有边%2C此情无止境!是什么意思,知道\n",
       "3           山有顶%2C海有边%2C此情无止境!是什么意思,知道\n",
       "4          做完胆管支架的手术白血球高!还不发烧!是什么意思,健康\n",
       "5                                 攸,百科\n",
       "6           山有顶%2C海有边%2C此情无止境!是什么意思,知道\n",
       "7          做完胆管支架的手术白血球高!还不发烧!是什么意思,健康\n",
       "8                               四物汤,百科\n",
       "9           山有顶%2C海有边%2C此情无止境!是什么意思,知道\n",
       "10                               优酷,百科\n",
       "11                       夫西地酸乳膏有激素吗,健康\n",
       "12          山有顶%2C海有边%2C此情无止境!是什么意思,知道\n",
       "13                   ★百度手机助手的历史版本在哪,知道\n",
       "14          山有顶%2C海有边%2C此情无止境!是什么意思,知道\n",
       "15          山有顶%2C海有边%2C此情无止境!是什么意思,知道\n",
       "16         做完胆管支架的手术白血球高!还不发烧!是什么意思,健康\n",
       "17                          三字经全文朗读,应用\n",
       "18         做完胆管支架的手术白血球高!还不发烧!是什么意思,健康\n",
       "19                           御宅屋小说网,网站\n",
       "20         做完胆管支架的手术白血球高!还不发烧!是什么意思,健康\n",
       "21                               枸杞,百科\n",
       "22                             吸顶灯具,百科\n",
       "23                             嘀嗒出行,应用\n",
       "24                   你好，吸电子烟对身体有害吗？,健康\n",
       "25          山有顶%2C海有边%2C此情无止境!是什么意思,知道\n",
       "26                             汽车之家,应用\n",
       "27         做完胆管支架的手术白血球高!还不发烧!是什么意思,健康\n",
       "28                        aabcbc的词语,知道\n",
       "29                              五台山,百科\n",
       "                      ...             \n",
       "1999969             中国体育彩票大乐透要按顺序吗?,知道\n",
       "1999970                         狮子座,音乐\n",
       "1999971                     什么叫置换反应,知道\n",
       "1999972                    中国体育彩票官网,网站\n",
       "1999973                         羊口疮,百科\n",
       "1999974                    中国体育彩票官网,网站\n",
       "1999975                    中国体育彩票官网,网站\n",
       "1999976                          寒梅,百科\n",
       "1999977                        广汽传祺,汽车\n",
       "1999978             中国体育彩票大乐透要按顺序吗?,知道\n",
       "1999979                      中国体育彩票,百科\n",
       "1999980                         何雨沙,百科\n",
       "1999981                         赶集网,网站\n",
       "1999982                      中国体育彩票,百科\n",
       "1999983                       BMI指数,百科\n",
       "1999984                         映山红,音乐\n",
       "1999985                          阆中,百科\n",
       "1999986                          字谜,百科\n",
       "1999987                    中国体育彩票官网,网站\n",
       "1999988                        快递查询,应用\n",
       "1999989                    中国体育彩票官网,网站\n",
       "1999990                      煎牛排的做法,菜谱\n",
       "1999991             中国体育彩票大乐透要按顺序吗?,知道\n",
       "1999992                      误嫁天价总裁,阅读\n",
       "1999993                      免费小说大全,应用\n",
       "1999994                    丁嘉丽的个人生活,知道\n",
       "1999995                    中国体育彩票官网,网站\n",
       "1999996                      中国体育彩票,百科\n",
       "1999997                    中国体育彩票官网,网站\n",
       "1999998                         江南春,百科\n",
       "Name: realname, Length: 1999999, dtype: object"
      ]
     },
     "execution_count": 14,
     "metadata": {},
     "output_type": "execute_result"
    }
   ],
   "source": [
    "#构建realname\n",
    "train_data['realname'] = train_data['title'] + ',' + train_data['tag']\n",
    "train_data['realname']"
   ]
  },
  {
   "cell_type": "code",
   "execution_count": 15,
   "metadata": {
    "scrolled": false
   },
   "outputs": [
    {
     "data": {
      "image/png": "[encoded data removed]",
      "text/plain": [
       "<Figure size 1080x540 with 3 Axes>"
      ]
     },
     "metadata": {},
     "output_type": "display_data"
    }
   ],
   "source": [
    "##query_prediction为空的时候基本满足平常时候的情况\n",
    "#查找query_prediciton是空的\n",
    "from matplotlib import pylab as plt \n",
    "from pylab import mpl\n",
    "mpl.rcParams['font.sans-serif'] = ['SimHei'] \n",
    "none_train_data = train_data.loc[train_data['query_prediction'].isnull()]\n",
    "#none_train_data['label'].mean()\n",
    "not_none_train_data = train_data.loc[train_data['query_prediction'].notnull()]\n",
    "plt.figure(figsize=(15,7.5))\n",
    "plt.subplot(131)\n",
    "none_train_data.groupby(['tag'])['label'].mean().plot.bar(title = 'query_prediction是空的时候的点击')\n",
    "plt.subplot(132)\n",
    "train_data.groupby(['tag'])['label'].mean().plot.bar(title = '文章类型点击率')\n",
    "plt.subplot(133)\n",
    "not_none_train_data.groupby(['tag'])['label'].mean().plot.bar(title = 'query_prediction不为空的时候的点击')\n",
    "plt.show()"
   ]
  },
  {
   "cell_type": "code",
   "execution_count": null,
   "metadata": {
    "scrolled": true
   },
   "outputs": [],
   "source": [
    "#查看title不在query_prediction的时候该行的点击概率 #如果重新构建train_data_1 = train_data[train_data['query_prediciton'].notnull()].reset_index\n",
    "#只统计query_prediction不为空的样本\n",
    "#title不在query_prediction的远低于总体值()\n",
    "count_sum = 0 #title不在query_prediction中label=1的数量\n",
    "count_not_in = 0\n",
    "count_in = 0\n",
    "import json\n",
    "def to_json(itemstr):\n",
    "    if type(itemstr) != str:\n",
    "        return 0\n",
    "    else:\n",
    "        obj = json.loads(itemstr)\n",
    "        return obj\n",
    "p1 = train_data['query_prediction'].map(to_json)\n",
    "#print(train_data.loc[10]['title'])\n",
    "#print(p1[10].has_key('10'))    python3 没有has_key()\n",
    "#if train_data.loc[10]['title'] in p1[10].keys():\n",
    "#   print('1')\n",
    "#for inx in p1:\n",
    "#    if train_data_2.loc[i]['title'] in inx.keys():\n",
    " #       print('1')\n",
    "for i in range(len(train_data)):\n",
    "    if type(p1[i]) != int:\n",
    "        if train_data.loc[i]['title'] in p1[i].keys():\n",
    "            count_in = count_in + 1\n",
    "        else:\n",
    "            count_not_in = count_not_in + 1\n",
    "            if train_data.loc[i]['label'] == 1:\n",
    "                count_sum = count_sum + 1\n",
    "\n",
    "print(\"title在query_prediction中的样本数为：\",count_in)\n",
    "print('title不在query_prediction中的样本数为:',count_not_in)\n",
    "print('title不在query_prediction中的点击率为:',count_sum/count_not_in)"
   ]
  },
  {
   "cell_type": "code",
   "execution_count": null,
   "metadata": {},
   "outputs": [],
   "source": [
    "#增加特征，判断title是否在query_prediction里面,其中query_prediction为空的训练集默认为0\n",
    "#title在query_prediction中为1，不在为0，quert_prediction为空为-1\n",
    "import json\n",
    "train_data['title_not_in'] = None\n",
    "def to_json(itemstr):\n",
    "    if type(itemstr) != str:\n",
    "        return 0\n",
    "    else:\n",
    "        obj = json.loads(itemstr)\n",
    "        return obj\n",
    "p1 = train_data['query_prediction'].map(to_json)\n",
    "for i in range(len(train_data['title_not_in'])):\n",
    "    if type(p1[i]) == int:\n",
    "        train_data.loc[i]['title_not_in'] = -1\n",
    "    elif train_data.loc[i]['title'] in p1[i].keys():\n",
    "        train_data.loc[i]['title_not_in'] = 1\n",
    "    else:\n",
    "        train_data.loc[i]['title_not_in'] = 0\n",
    "print(train_data['title_not_int'].value_counts())"
   ]
  },
  {
   "cell_type": "code",
   "execution_count": null,
   "metadata": {},
   "outputs": [],
   "source": [
    "#计算prefix和query_prediction中每个预测的相似度，取最大相似度为当前prefix和预测相似度，\n",
    "#可视化相似度和点击率的关系\n",
    "#---曽瑜做了\n"
   ]
  },
  {
   "cell_type": "code",
   "execution_count": 7,
   "metadata": {},
   "outputs": [
    {
     "ename": "KeyboardInterrupt",
     "evalue": "",
     "output_type": "error",
     "traceback": [
      "\u001b[1;31m---------------------------------------------------------------------------\u001b[0m",
      "\u001b[1;31mKeyboardInterrupt\u001b[0m                         Traceback (most recent call last)",
      "\u001b[1;32m<ipython-input-7-0df86df8eed1>\u001b[0m in \u001b[0;36m<module>\u001b[1;34m()\u001b[0m\n\u001b[0;32m      9\u001b[0m \u001b[1;32mfor\u001b[0m \u001b[0mi\u001b[0m \u001b[1;32min\u001b[0m \u001b[0mrange\u001b[0m\u001b[1;33m(\u001b[0m\u001b[0mlen\u001b[0m\u001b[1;33m(\u001b[0m\u001b[0mtrain_data\u001b[0m\u001b[1;33m)\u001b[0m\u001b[1;33m)\u001b[0m\u001b[1;33m:\u001b[0m\u001b[1;33m\u001b[0m\u001b[0m\n\u001b[0;32m     10\u001b[0m     \u001b[1;32mif\u001b[0m \u001b[0mtype\u001b[0m\u001b[1;33m(\u001b[0m\u001b[0mtrain_data\u001b[0m\u001b[1;33m.\u001b[0m\u001b[0mloc\u001b[0m\u001b[1;33m[\u001b[0m\u001b[0mi\u001b[0m\u001b[1;33m]\u001b[0m\u001b[1;33m[\u001b[0m\u001b[1;34m'prefix'\u001b[0m\u001b[1;33m]\u001b[0m\u001b[1;33m)\u001b[0m\u001b[1;33m==\u001b[0m \u001b[0mstr\u001b[0m \u001b[1;32mand\u001b[0m \u001b[0mtype\u001b[0m\u001b[1;33m(\u001b[0m\u001b[0mtrain_data\u001b[0m\u001b[1;33m.\u001b[0m\u001b[0mloc\u001b[0m\u001b[1;33m[\u001b[0m\u001b[0mi\u001b[0m\u001b[1;33m]\u001b[0m\u001b[1;33m[\u001b[0m\u001b[1;34m'title'\u001b[0m\u001b[1;33m]\u001b[0m\u001b[1;33m)\u001b[0m \u001b[1;33m==\u001b[0m \u001b[0mstr\u001b[0m\u001b[1;33m:\u001b[0m\u001b[1;33m\u001b[0m\u001b[0m\n\u001b[1;32m---> 11\u001b[1;33m         \u001b[0mtrain_data\u001b[0m\u001b[1;33m.\u001b[0m\u001b[0mloc\u001b[0m\u001b[1;33m[\u001b[0m\u001b[0mi\u001b[0m\u001b[1;33m]\u001b[0m\u001b[1;33m[\u001b[0m\u001b[1;34m'sml_pre_ti'\u001b[0m\u001b[1;33m]\u001b[0m \u001b[1;33m=\u001b[0m \u001b[0mget_equal_rate_1\u001b[0m\u001b[1;33m(\u001b[0m\u001b[0mtrain_data\u001b[0m\u001b[1;33m.\u001b[0m\u001b[0mloc\u001b[0m\u001b[1;33m[\u001b[0m\u001b[0mi\u001b[0m\u001b[1;33m]\u001b[0m\u001b[1;33m[\u001b[0m\u001b[1;34m'prefix'\u001b[0m\u001b[1;33m]\u001b[0m\u001b[1;33m,\u001b[0m\u001b[0mtrain_data\u001b[0m\u001b[1;33m.\u001b[0m\u001b[0mloc\u001b[0m\u001b[1;33m[\u001b[0m\u001b[0mi\u001b[0m\u001b[1;33m]\u001b[0m\u001b[1;33m[\u001b[0m\u001b[1;34m'title'\u001b[0m\u001b[1;33m]\u001b[0m\u001b[1;33m)\u001b[0m\u001b[1;33m\u001b[0m\u001b[0m\n\u001b[0m\u001b[0;32m     12\u001b[0m     \u001b[1;32melse\u001b[0m\u001b[1;33m:\u001b[0m\u001b[1;33m\u001b[0m\u001b[0m\n\u001b[0;32m     13\u001b[0m         \u001b[0mtrain_data\u001b[0m\u001b[1;33m.\u001b[0m\u001b[0mloc\u001b[0m\u001b[1;33m[\u001b[0m\u001b[0mi\u001b[0m\u001b[1;33m]\u001b[0m\u001b[1;33m[\u001b[0m\u001b[1;34m'sml_pre_ti'\u001b[0m\u001b[1;33m]\u001b[0m \u001b[1;33m=\u001b[0m \u001b[1;32mNone\u001b[0m\u001b[1;33m\u001b[0m\u001b[0m\n",
      "\u001b[1;32md:\\Users\\tkhoon\\Anaconda3\\lib\\site-packages\\pandas\\core\\series.py\u001b[0m in \u001b[0;36m__setitem__\u001b[1;34m(self, key, value)\u001b[0m\n\u001b[0;32m    935\u001b[0m \u001b[1;33m\u001b[0m\u001b[0m\n\u001b[0;32m    936\u001b[0m         \u001b[1;31m# do the setitem\u001b[0m\u001b[1;33m\u001b[0m\u001b[1;33m\u001b[0m\u001b[0m\n\u001b[1;32m--> 937\u001b[1;33m         \u001b[0mcacher_needs_updating\u001b[0m \u001b[1;33m=\u001b[0m \u001b[0mself\u001b[0m\u001b[1;33m.\u001b[0m\u001b[0m_check_is_chained_assignment_possible\u001b[0m\u001b[1;33m(\u001b[0m\u001b[1;33m)\u001b[0m\u001b[1;33m\u001b[0m\u001b[0m\n\u001b[0m\u001b[0;32m    938\u001b[0m         \u001b[0msetitem\u001b[0m\u001b[1;33m(\u001b[0m\u001b[0mkey\u001b[0m\u001b[1;33m,\u001b[0m \u001b[0mvalue\u001b[0m\u001b[1;33m)\u001b[0m\u001b[1;33m\u001b[0m\u001b[0m\n\u001b[0;32m    939\u001b[0m         \u001b[1;32mif\u001b[0m \u001b[0mcacher_needs_updating\u001b[0m\u001b[1;33m:\u001b[0m\u001b[1;33m\u001b[0m\u001b[0m\n",
      "\u001b[1;32md:\\Users\\tkhoon\\Anaconda3\\lib\\site-packages\\pandas\\core\\generic.py\u001b[0m in \u001b[0;36m_check_is_chained_assignment_possible\u001b[1;34m(self)\u001b[0m\n\u001b[0;32m   2625\u001b[0m             \u001b[1;32mreturn\u001b[0m \u001b[1;32mTrue\u001b[0m\u001b[1;33m\u001b[0m\u001b[0m\n\u001b[0;32m   2626\u001b[0m         \u001b[1;32melif\u001b[0m \u001b[0mself\u001b[0m\u001b[1;33m.\u001b[0m\u001b[0m_is_copy\u001b[0m\u001b[1;33m:\u001b[0m\u001b[1;33m\u001b[0m\u001b[0m\n\u001b[1;32m-> 2627\u001b[1;33m             \u001b[0mself\u001b[0m\u001b[1;33m.\u001b[0m\u001b[0m_check_setitem_copy\u001b[0m\u001b[1;33m(\u001b[0m\u001b[0mstacklevel\u001b[0m\u001b[1;33m=\u001b[0m\u001b[1;36m4\u001b[0m\u001b[1;33m,\u001b[0m \u001b[0mt\u001b[0m\u001b[1;33m=\u001b[0m\u001b[1;34m'referant'\u001b[0m\u001b[1;33m)\u001b[0m\u001b[1;33m\u001b[0m\u001b[0m\n\u001b[0m\u001b[0;32m   2628\u001b[0m         \u001b[1;32mreturn\u001b[0m \u001b[1;32mFalse\u001b[0m\u001b[1;33m\u001b[0m\u001b[0m\n\u001b[0;32m   2629\u001b[0m \u001b[1;33m\u001b[0m\u001b[0m\n",
      "\u001b[1;32md:\\Users\\tkhoon\\Anaconda3\\lib\\site-packages\\pandas\\core\\generic.py\u001b[0m in \u001b[0;36m_check_setitem_copy\u001b[1;34m(self, stacklevel, t, force)\u001b[0m\n\u001b[0;32m   2669\u001b[0m             \u001b[1;32mtry\u001b[0m\u001b[1;33m:\u001b[0m\u001b[1;33m\u001b[0m\u001b[0m\n\u001b[0;32m   2670\u001b[0m                 \u001b[0mgc\u001b[0m\u001b[1;33m.\u001b[0m\u001b[0mcollect\u001b[0m\u001b[1;33m(\u001b[0m\u001b[1;36m2\u001b[0m\u001b[1;33m)\u001b[0m\u001b[1;33m\u001b[0m\u001b[0m\n\u001b[1;32m-> 2671\u001b[1;33m                 \u001b[1;32mif\u001b[0m \u001b[1;32mnot\u001b[0m \u001b[0mgc\u001b[0m\u001b[1;33m.\u001b[0m\u001b[0mget_referents\u001b[0m\u001b[1;33m(\u001b[0m\u001b[0mself\u001b[0m\u001b[1;33m.\u001b[0m\u001b[0m_is_copy\u001b[0m\u001b[1;33m(\u001b[0m\u001b[1;33m)\u001b[0m\u001b[1;33m)\u001b[0m\u001b[1;33m:\u001b[0m\u001b[1;33m\u001b[0m\u001b[0m\n\u001b[0m\u001b[0;32m   2672\u001b[0m                     \u001b[0mself\u001b[0m\u001b[1;33m.\u001b[0m\u001b[0m_is_copy\u001b[0m \u001b[1;33m=\u001b[0m \u001b[1;32mNone\u001b[0m\u001b[1;33m\u001b[0m\u001b[0m\n\u001b[0;32m   2673\u001b[0m                     \u001b[1;32mreturn\u001b[0m\u001b[1;33m\u001b[0m\u001b[0m\n",
      "\u001b[1;31mKeyboardInterrupt\u001b[0m: "
     ]
    }
   ],
   "source": [
    "##################################\n",
    "#计算prefix和title的相似度，即输入的前缀和显示的内容的相似度，计算相似度和点击率的关系\n",
    "train_data['sml_pre_ti'] = None\n",
    "\n",
    "import difflib\n",
    "def get_equal_rate_1(str1,str2):\n",
    "    return difflib.SequenceMatcher(None, str1, str2).quick_ratio()\n",
    "\n",
    "for i in range(len(train_data)):\n",
    "    if type(train_data.loc[i]['prefix'])== str and type(train_data.loc[i]['title']) == str:\n",
    "        train_data.loc[i]['sml_pre_ti'] = get_equal_rate_1(train_data.loc[i]['prefix'],train_data.loc[i]['title'])\n",
    "    else:\n",
    "        train_data.loc[i]['sml_pre_ti'] = None\n",
    "\n",
    "print('prefix和title的平均相似度',train_data['sml_pre_ti'].mean())\n"
   ]
  },
  {
   "cell_type": "code",
   "execution_count": null,
   "metadata": {},
   "outputs": [],
   "source": []
  }
 ],
 "metadata": {
  "kernelspec": {
   "display_name": "Python 3",
   "language": "python",
   "name": "python3"
  },
  "language_info": {
   "codemirror_mode": {
    "name": "ipython",
    "version": 3
   },
   "file_extension": ".py",
   "mimetype": "text/x-python",
   "name": "python",
   "nbconvert_exporter": "python",
   "pygments_lexer": "ipython3",
   "version": "3.6.5"
  }
 },
 "nbformat": 4,
 "nbformat_minor": 2
}
