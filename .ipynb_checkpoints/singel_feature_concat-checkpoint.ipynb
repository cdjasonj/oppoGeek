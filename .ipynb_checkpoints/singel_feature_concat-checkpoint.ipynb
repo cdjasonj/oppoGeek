{
 "cells": [
  {
   "cell_type": "code",
   "execution_count": 27,
   "metadata": {},
   "outputs": [],
   "source": [
    "import pandas as pd\n",
    "root_dir = 'E:/competionfile/oppo/data/singleFeature/'\n",
    "# avgpredictwzdis = pd.read_csv(root_dir+'avgpredictwzdis.csv',names=['avgpredictwzdis'])\n",
    "\n",
    "# cixing_a = pd.read_csv(root_dir+'cixing-a.csv',names=['cixing-a'])\n",
    "# cixing_m = pd.read_csv(root_dir+'cixing-m.csv',names=['cixing-m'])\n",
    "# cixing_n = pd.read_csv(root_dir+'cixing-m.csv',names=['cixing-n'])\n",
    "# cixing_v = pd.read_csv(root_dir+'cixing-v.csv',names=['cixing-v'])\n",
    "\n",
    "contain_num= pd.read_csv(root_dir+'contain_num.csv',names=['contain_num'])\n",
    "\n",
    "# pre_title_ctr_rank= pd.read_csv(root_dir+'pre_title_ctr_rank.csv',names=['pre_title_ctr_rank'])\n",
    "\n",
    "# pre_titletag_ctr_rank= pd.read_csv(root_dir+'pre_titletag_ctr_rank.csv',names=['pre_titletag_ctr_rank'])\n",
    "# prediction_1_avg_point= pd.read_csv(root_dir+'prediction_1_avg_point.csv',names=['prediction_1_avg_point'])\n",
    "# prediction_3_avg_point= pd.read_csv(root_dir+'prediction_3_avg_point.csv',names=['prediction_3_avg_point'])\n",
    "# prediction_10_avg_point= pd.read_csv(root_dir+'prediction_10_avg_point.csv',names=['prediction_10_avg_point'])\n",
    "# smooth_pre_title_ctr_rank= pd.read_csv(root_dir+'smooth_pre_title_ctr_rank.csv',names=['smooth_pre_title_ctr_rank'])\n",
    "# smooth_pre_title_tag_ctr= pd.read_csv(root_dir+'smooth_pre_title_tag_ctr.csv',names=['smooth_pre_title_tag_ctr'])"
   ]
  },
  {
   "cell_type": "code",
   "execution_count": 28,
   "metadata": {},
   "outputs": [],
   "source": [
    "avgpredictwzdis['cixing_a'] = cixing_a\n",
    "avgpredictwzdis['cixing_m'] = cixing_m\n",
    "avgpredictwzdis['cixing_n'] = cixing_n\n",
    "avgpredictwzdis['cixing_v'] = cixing_v\n",
    "avgpredictwzdis['contain_num'] = contain_num\n",
    "avgpredictwzdis['pre_title_ctr_rank'] = pre_title_ctr_rank\n",
    "avgpredictwzdis['pre_titletag_ctr_rank'] = pre_titletag_ctr_rank\n",
    "avgpredictwzdis['prediction_1_avg_point'] = prediction_1_avg_point\n",
    "avgpredictwzdis['prediction_3_avg_point'] = prediction_3_avg_point\n",
    "avgpredictwzdis['prediction_10_avg_point'] = prediction_10_avg_point\n",
    "avgpredictwzdis['smooth_pre_title_ctr_rank'] = smooth_pre_title_ctr_rank\n",
    "avgpredictwzdis['smooth_pre_title_tag_ctr'] = smooth_pre_title_tag_ctr\n"
   ]
  },
  {
   "cell_type": "code",
   "execution_count": 31,
   "metadata": {},
   "outputs": [],
   "source": [
    "# avgpredictwzdis\n",
    "# avgpredictwzdis\n",
    "avgpredictwzdis.to_csv('E:/competionfile/oppo/data/total_feature/train_data_zy_feature.csv',index=False)\n",
    "test_avgpredictwzdis.to_csv('E:/competionfile/oppo/data/total_feature/test_data_zy_feature.csv',index=False)\n"
   ]
  },
  {
   "cell_type": "code",
   "execution_count": 14,
   "metadata": {},
   "outputs": [],
   "source": [
    "import pandas as pd\n",
    "root_dir = 'E:/competionfile/oppo/data/singleFeature/'\n",
    "test_avgpredictwzdis = pd.read_csv(root_dir+'cavgcpredictwzdis.csv',names=['avgpredictwzdis'])\n",
    "\n",
    "test_cixing_a = pd.read_csv(root_dir+'test_cixing-a.csv',names=['cixing-a'])\n",
    "test_cixing_m = pd.read_csv(root_dir+'test_cixing-m.csv',names=['cixing-m'])\n",
    "test_cixing_n = pd.read_csv(root_dir+'test_cixing-m.csv',names=['cixing-n'])\n",
    "test_cixing_v = pd.read_csv(root_dir+'test_cixing-v.csv',names=['cixing-v'])\n",
    "\n",
    "test_contain_num= pd.read_csv(root_dir+'test_contain_num.csv',names=['contain_num'])\n",
    "\n",
    "test_pre_title_ctr_rank= pd.read_csv(root_dir+'test_pre_title_ctr_rank.csv',names=['pre_title_ctr_rank'])\n",
    "\n",
    "test_pre_titletag_ctr_rank= pd.read_csv(root_dir+'test_pre_titletag_ctr_rank.csv',names=['pre_titletag_ctr_rank'])\n",
    "test_prediction_1_avg_point= pd.read_csv(root_dir+'test_prediction_1_avg_point.csv',names=['prediction_1_avg_point'])\n",
    "test_prediction_3_avg_point= pd.read_csv(root_dir+'test_prediction_3_avg_point.csv',names=['prediction_3_avg_point'])\n",
    "test_prediction_10_avg_point= pd.read_csv(root_dir+'test_prediction_10_avg_point.csv',names=['prediction_10_avg_point'])\n",
    "test_smooth_pre_title_ctr_rank= pd.read_csv(root_dir+'test_smooth_pre_title_ctr_rank.csv',names=['smooth_pre_title_ctr_rank'])\n",
    "test_smooth_pre_title_tag_ctr= pd.read_csv(root_dir+'test_smooth_pre_title_tag_ctr.csv',names=['smooth_pre_title_tag_ctr'])"
   ]
  },
  {
   "cell_type": "code",
   "execution_count": 20,
   "metadata": {},
   "outputs": [],
   "source": [
    "test_avgpredictwzdis['cixing_a'] = test_cixing_a\n",
    "test_avgpredictwzdis['cixing_m'] = test_cixing_m\n",
    "test_avgpredictwzdis['cixing_n'] = test_cixing_n\n",
    "test_avgpredictwzdis['cixing_v'] = test_cixing_v\n",
    "test_avgpredictwzdis['contain_num'] = test_contain_num\n",
    "test_avgpredictwzdis['pre_title_ctr_rank'] = test_pre_title_ctr_rank\n",
    "test_avgpredictwzdis['pre_titletag_ctr_rank'] = test_pre_titletag_ctr_rank\n",
    "test_avgpredictwzdis['prediction_1_avg_point'] = test_prediction_1_avg_point\n",
    "test_avgpredictwzdis['prediction_3_avg_point'] = test_prediction_3_avg_point\n",
    "test_avgpredictwzdis['prediction_10_avg_point'] = test_prediction_10_avg_point\n",
    "test_avgpredictwzdis['smooth_pre_title_ctr_rank'] = test_smooth_pre_title_ctr_rank\n",
    "test_avgpredictwzdis['smooth_pre_title_tag_ctr'] = test_smooth_pre_title_tag_ctr"
   ]
  },
  {
   "cell_type": "code",
   "execution_count": 5,
   "metadata": {},
   "outputs": [],
   "source": [
    "import pandas as pd\n",
    "root_dir = 'E:/competionfile/oppo/data/singleFeature/'\n",
    "# avgpredictwzdis = pd.read_csv(root_dir+'avgpredictwzdis.csv',names=['avgpredictwzdis'])\n",
    "\n",
    "# real_test_cixing_a = pd.read_csv(root_dir+'real_test_cixing-a.csv',names=['cixing-a'])\n",
    "# real_test_cixing_m = pd.read_csv(root_dir+'real_test_cixing-m.csv',names=['cixing-m'])\n",
    "# real_test_cixing_n = pd.read_csv(root_dir+'real_test_cixing-m.csv',names=['cixing-n'])\n",
    "# real_test_cixing_v = pd.read_csv(root_dir+'real_test_cixing-v.csv',names=['cixing-v'])\n",
    "\n",
    "# real_test_contain_num= pd.read_csv(root_dir+'real_test_contain_num.csv',names=['contain_num'])\n",
    "\n",
    "# real_test_pre_title_ctr_rank= pd.read_csv(root_dir+'real_test_pre_title_ctr_rank.csv',names=['pre_title_ctr_rank'])\n",
    "\n",
    "# real_test_pre_titletag_ctr_rank= pd.read_csv(root_dir+'real_test_pre_title_tag_ctr_rank.csv',names=['pre_titletag_ctr_rank'])\n",
    "real_test_prediction_1_avg_point= pd.read_csv(root_dir+'real_testprediction_1_avg_point.csv',names=['prediction_1_avg_point'])\n",
    "real_test_prediction_3_avg_point= pd.read_csv(root_dir+'real_testprediction_3_avg_point.csv',names=['prediction_3_avg_point'])\n",
    "real_test_prediction_10_avg_point= pd.read_csv(root_dir+'real_testprediction_10_avg_point.csv',names=['prediction_10_avg_point'])\n",
    "real_test_smooth_pre_title_ctr_rank= pd.read_csv(root_dir+'real_test_smooth_pre_title_ctr_rank.csv',names=['smooth_pre_title_ctr_rank'])\n",
    "real_test_smooth_pre_title_tag_ctr= pd.read_csv(root_dir+'real_test_smooth_pre_title_tag_ctr.csv',names=['smooth_pre_title_tag_ctr'])"
   ]
  },
  {
   "cell_type": "code",
   "execution_count": 6,
   "metadata": {},
   "outputs": [],
   "source": [
    "\n",
    "real_test_cixing_a['cixing_m'] = real_test_cixing_m\n",
    "real_test_cixing_a['cixing_n'] = real_test_cixing_n\n",
    "real_test_cixing_a['cixing_v'] = real_test_cixing_v\n",
    "real_test_cixing_a['contain_num'] = real_test_contain_num\n",
    "real_test_cixing_a['pre_title_ctr_rank'] = real_test_pre_title_ctr_rank\n",
    "real_test_cixing_a['pre_titletag_ctr_rank'] = real_test_pre_titletag_ctr_rank\n",
    "real_test_cixing_a['prediction_1_avg_point'] = real_test_prediction_1_avg_point\n",
    "real_test_cixing_a['prediction_3_avg_point'] = real_test_prediction_3_avg_point\n",
    "real_test_cixing_a['prediction_10_avg_point'] = real_test_prediction_10_avg_point\n",
    "real_test_cixing_a['smooth_pre_title_ctr_rank'] = real_test_smooth_pre_title_ctr_rank\n",
    "real_test_cixing_a['smooth_pre_title_tag_ctr'] = real_test_smooth_pre_title_tag_ctr"
   ]
  },
  {
   "cell_type": "code",
   "execution_count": 8,
   "metadata": {},
   "outputs": [],
   "source": [
    "real_test_cixing_a.to_csv('E:/competionfile/oppo/data/total_feature/real_test_data_zy_feature.csv')"
   ]
  },
  {
   "cell_type": "code",
   "execution_count": null,
   "metadata": {},
   "outputs": [],
   "source": []
  },
  {
   "cell_type": "code",
   "execution_count": null,
   "metadata": {},
   "outputs": [],
   "source": []
  },
  {
   "cell_type": "code",
   "execution_count": null,
   "metadata": {},
   "outputs": [],
   "source": []
  },
  {
   "cell_type": "code",
   "execution_count": null,
   "metadata": {},
   "outputs": [],
   "source": []
  }
 ],
 "metadata": {
  "kernelspec": {
   "display_name": "Python 3",
   "language": "python",
   "name": "python3"
  },
  "language_info": {
   "codemirror_mode": {
    "name": "ipython",
    "version": 3
   },
   "file_extension": ".py",
   "mimetype": "text/x-python",
   "name": "python",
   "nbconvert_exporter": "python",
   "pygments_lexer": "ipython3",
   "version": "3.6.5"
  }
 },
 "nbformat": 4,
 "nbformat_minor": 2
}
